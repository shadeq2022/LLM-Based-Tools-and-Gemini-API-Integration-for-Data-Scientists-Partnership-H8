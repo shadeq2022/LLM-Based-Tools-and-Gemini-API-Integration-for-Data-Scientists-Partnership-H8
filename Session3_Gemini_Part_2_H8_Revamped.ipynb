{
  "nbformat": 4,
  "nbformat_minor": 0,
  "metadata": {
    "colab": {
      "provenance": [],
      "include_colab_link": true
    },
    "kernelspec": {
      "name": "python3",
      "display_name": "Python 3"
    },
    "language_info": {
      "name": "python"
    }
  },
  "cells": [
    {
      "cell_type": "markdown",
      "metadata": {
        "id": "view-in-github",
        "colab_type": "text"
      },
      "source": [
        "<a href=\"https://colab.research.google.com/github/shadeq2022/LLM-Based-Tools-and-Gemini-API-Integration-for-Data-Scientists-Partnership-H8/blob/main/Session3_Gemini_Part_2_H8_Revamped.ipynb\" target=\"_parent\"><img src=\"https://colab.research.google.com/assets/colab-badge.svg\" alt=\"Open In Colab\"/></a>"
      ]
    },
    {
      "cell_type": "markdown",
      "source": [
        "# Konfigurasi Parameter"
      ],
      "metadata": {
        "id": "xgjnQ6nkZYy_"
      }
    },
    {
      "cell_type": "code",
      "source": [
        "!pip install -q -U \"google-genai>=1.0.0\""
      ],
      "metadata": {
        "id": "gTew17P5cDYg",
        "colab": {
          "base_uri": "https://localhost:8080/"
        },
        "outputId": "938483a8-d507-41b9-a5c6-2e58ea40bcff"
      },
      "execution_count": null,
      "outputs": [
        {
          "output_type": "stream",
          "name": "stdout",
          "text": [
            "\u001b[?25l     \u001b[90m━━━━━━━━━━━━━━━━━━━━━━━━━━━━━━━━━━━━━━━━\u001b[0m \u001b[32m0.0/43.6 kB\u001b[0m \u001b[31m?\u001b[0m eta \u001b[36m-:--:--\u001b[0m\r\u001b[2K     \u001b[90m━━━━━━━━━━━━━━━━━━━━━━━━━━━━━━━━━━━━━━━━\u001b[0m \u001b[32m43.6/43.6 kB\u001b[0m \u001b[31m1.4 MB/s\u001b[0m eta \u001b[36m0:00:00\u001b[0m\n",
            "\u001b[?25h\u001b[?25l   \u001b[90m━━━━━━━━━━━━━━━━━━━━━━━━━━━━━━━━━━━━━━━━\u001b[0m \u001b[32m0.0/244.3 kB\u001b[0m \u001b[31m?\u001b[0m eta \u001b[36m-:--:--\u001b[0m\r\u001b[2K   \u001b[91m━━━━━━━━━━━━━━━━━━━━━━━━━━━━━━━━━━━━━━\u001b[0m\u001b[91m╸\u001b[0m\u001b[90m━\u001b[0m \u001b[32m235.5/244.3 kB\u001b[0m \u001b[31m9.5 MB/s\u001b[0m eta \u001b[36m0:00:01\u001b[0m\r\u001b[2K   \u001b[90m━━━━━━━━━━━━━━━━━━━━━━━━━━━━━━━━━━━━━━━━\u001b[0m \u001b[32m244.3/244.3 kB\u001b[0m \u001b[31m5.5 MB/s\u001b[0m eta \u001b[36m0:00:00\u001b[0m\n",
            "\u001b[?25h"
          ]
        }
      ]
    },
    {
      "cell_type": "code",
      "source": [
        "from google import genai\n",
        "from google.genai import types\n",
        "from IPython.display import Markdown\n",
        "from google.colab import userdata"
      ],
      "metadata": {
        "id": "XDVUFzZHL3LP"
      },
      "execution_count": null,
      "outputs": []
    },
    {
      "cell_type": "code",
      "source": [
        "\n",
        "\n",
        "GEMINI = userdata.get('GEMINI')"
      ],
      "metadata": {
        "id": "z1rmSLRUL9TQ",
        "outputId": "f2704528-38c0-40da-e881-799037a7534d",
        "colab": {
          "base_uri": "https://localhost:8080/",
          "height": 274
        }
      },
      "execution_count": null,
      "outputs": [
        {
          "output_type": "error",
          "ename": "TimeoutException",
          "evalue": "Requesting secret GEMINI timed out. Secrets can only be fetched when running from the Colab UI.",
          "traceback": [
            "\u001b[0;31m---------------------------------------------------------------------------\u001b[0m",
            "\u001b[0;31mTimeoutException\u001b[0m                          Traceback (most recent call last)",
            "\u001b[0;32m/tmp/ipython-input-2744802555.py\u001b[0m in \u001b[0;36m<cell line: 0>\u001b[0;34m()\u001b[0m\n\u001b[0;32m----> 1\u001b[0;31m \u001b[0mGEMINI\u001b[0m \u001b[0;34m=\u001b[0m \u001b[0muserdata\u001b[0m\u001b[0;34m.\u001b[0m\u001b[0mget\u001b[0m\u001b[0;34m(\u001b[0m\u001b[0;34m'GEMINI'\u001b[0m\u001b[0;34m)\u001b[0m\u001b[0;34m\u001b[0m\u001b[0;34m\u001b[0m\u001b[0m\n\u001b[0m",
            "\u001b[0;32m/usr/local/lib/python3.12/dist-packages/google/colab/userdata.py\u001b[0m in \u001b[0;36mget\u001b[0;34m(key)\u001b[0m\n\u001b[1;32m     64\u001b[0m     )\n\u001b[1;32m     65\u001b[0m   \u001b[0;32mif\u001b[0m \u001b[0;32mnot\u001b[0m \u001b[0mresp\u001b[0m\u001b[0;34m:\u001b[0m\u001b[0;34m\u001b[0m\u001b[0;34m\u001b[0m\u001b[0m\n\u001b[0;32m---> 66\u001b[0;31m     \u001b[0;32mraise\u001b[0m \u001b[0mTimeoutException\u001b[0m\u001b[0;34m(\u001b[0m\u001b[0mkey\u001b[0m\u001b[0;34m)\u001b[0m\u001b[0;34m\u001b[0m\u001b[0;34m\u001b[0m\u001b[0m\n\u001b[0m\u001b[1;32m     67\u001b[0m   \u001b[0;32mif\u001b[0m \u001b[0;32mnot\u001b[0m \u001b[0mresp\u001b[0m\u001b[0;34m.\u001b[0m\u001b[0mget\u001b[0m\u001b[0;34m(\u001b[0m\u001b[0;34m'exists'\u001b[0m\u001b[0;34m,\u001b[0m \u001b[0;32mFalse\u001b[0m\u001b[0;34m)\u001b[0m\u001b[0;34m:\u001b[0m\u001b[0;34m\u001b[0m\u001b[0;34m\u001b[0m\u001b[0m\n\u001b[1;32m     68\u001b[0m     \u001b[0;32mraise\u001b[0m \u001b[0mSecretNotFoundError\u001b[0m\u001b[0;34m(\u001b[0m\u001b[0mkey\u001b[0m\u001b[0;34m)\u001b[0m\u001b[0;34m\u001b[0m\u001b[0;34m\u001b[0m\u001b[0m\n",
            "\u001b[0;31mTimeoutException\u001b[0m: Requesting secret GEMINI timed out. Secrets can only be fetched when running from the Colab UI."
          ]
        }
      ]
    },
    {
      "cell_type": "code",
      "source": [
        "\n",
        "\n",
        "# masukan API key kalian\n",
        "client = genai.Client(api_key=GEMINI)\n",
        "\n",
        "system_instruction='Kamu adalah pakar AI, Bicaralah seperti layaknya seorang Pakar'\n",
        "\n",
        "chat_config = types.GenerateContentConfig(\n",
        "    system_instruction=system_instruction,\n",
        "    #max_output_tokens=300,\n",
        "    temperature=0,\n",
        "    top_p=0.95,\n",
        "    top_k=20,\n",
        "\n",
        ")\n",
        "\n",
        "model_id = 'gemini-2.5-flash'\n",
        "response = client.models.generate_content(\n",
        "    model=model_id,\n",
        "    config=chat_config,\n",
        "    contents= \"Apa itu AI?\",\n",
        ")\n",
        "\n",
        "print(response.text)"
      ],
      "metadata": {
        "id": "FVjvlCwxZoZd",
        "colab": {
          "base_uri": "https://localhost:8080/"
        },
        "outputId": "40b04b0c-63ea-4ef0-bbb6-f345fa75946d"
      },
      "execution_count": null,
      "outputs": [
        {
          "output_type": "stream",
          "name": "stdout",
          "text": [
            "Baik, mari kita bahas.\n",
            "\n",
            "Sebagai seorang pakar AI, saya akan mendefinisikan Kecerdasan Buatan (Artificial Intelligence - AI) bukan hanya sebagai sebuah teknologi, melainkan sebagai **bidang ilmu komputasi yang berfokus pada penciptaan sistem atau mesin yang mampu melakukan tugas-tugas yang secara tradisional membutuhkan kecerdasan manusia.**\n",
            "\n",
            "Pada intinya, AI adalah upaya untuk mereplikasi, atau bahkan melampaui, kemampuan kognitif manusia dalam sebuah entitas non-biologis. Ini mencakup serangkaian kemampuan seperti:\n",
            "\n",
            "1.  **Pembelajaran (Learning):** Kemampuan untuk memperoleh pengetahuan dan keterampilan dari data atau pengalaman, tanpa diprogram secara eksplisit untuk setiap skenario. Ini adalah inti dari Machine Learning (ML), sub-bidang AI yang paling dominan saat ini.\n",
            "2.  **Penalaran (Reasoning):** Kemampuan untuk menggunakan logika dan aturan untuk menarik kesimpulan, memecahkan masalah, dan membuat keputusan.\n",
            "3.  **Persepsi (Perception):** Kemampuan untuk memahami dan menginterpretasikan informasi sensorik dari dunia nyata, seperti penglihatan (Computer Vision) dan pendengaran (Speech Recognition).\n",
            "4.  **Pemahaman Bahasa Alami (Natural Language Understanding - NLU):** Kemampuan untuk memahami, menginterpretasikan, dan menghasilkan bahasa manusia (Natural Language Processing - NLP).\n",
            "5.  **Perencanaan (Planning):** Kemampuan untuk menetapkan tujuan dan merumuskan strategi atau urutan tindakan untuk mencapainya.\n",
            "6.  **Manipulasi dan Gerakan (Manipulation & Locomotion):** Kemampuan untuk berinteraksi secara fisik dengan lingkungan, seperti yang terlihat pada robotika.\n",
            "\n",
            "**Evolusi dan Paradigma Utama:**\n",
            "\n",
            "Sejarah AI telah melalui beberapa \"musim dingin\" dan \"musim semi,\" dengan paradigma yang berbeda mendominasi pada waktu yang berbeda:\n",
            "\n",
            "*   **AI Simbolik (GOFAI - Good Old-Fashioned AI):** Pada awalnya, AI banyak berfokus pada sistem berbasis aturan dan logika formal (misalnya, sistem pakar). Pendekatan ini efektif untuk masalah yang terdefinisi dengan baik tetapi sulit diskalakan untuk kompleksitas dunia nyata.\n",
            "*   **Machine Learning (ML):** Ini adalah paradigma yang mendominasi saat ini. ML memungkinkan sistem untuk belajar dari data, mengidentifikasi pola, dan membuat prediksi atau keputusan tanpa pemrograman eksplisit. Sub-kategori utamanya meliputi:\n",
            "    *   **Supervised Learning:** Belajar dari data berlabel (misalnya, klasifikasi, regresi).\n",
            "    *   **Unsupervised Learning:** Menemukan pola dalam data tak berlabel (misalnya, clustering, reduksi dimensi).\n",
            "    *   **Reinforcement Learning:** Belajar melalui interaksi dengan lingkungan, menerima hadiah atau hukuman.\n",
            "*   **Deep Learning (DL):** Sebuah sub-bidang dari ML yang menggunakan jaringan saraf tiruan (neural networks) dengan banyak lapisan (deep layers). DL telah merevolusi banyak area AI, terutama dalam pengenalan gambar, pemrosesan bahasa alami, dan pengenalan suara, karena kemampuannya untuk secara otomatis mengekstraksi fitur kompleks dari data mentah.\n",
            "\n",
            "**Jenis-jenis AI (Berdasarkan Kapasitas):**\n",
            "\n",
            "1.  **Narrow AI (ANI) / Weak AI:** Ini adalah semua AI yang kita miliki saat ini. Sistem ini dirancang dan dilatih untuk melakukan satu tugas spesifik dengan sangat baik (misalnya, bermain catur, pengenalan wajah, asisten suara, rekomendasi produk).\n",
            "2.  **General AI (AGI) / Strong AI:** Ini adalah AI hipotetis yang memiliki kecerdasan setara manusia di seluruh spektrum tugas kognitif. AGI akan mampu belajar, memahami, dan menerapkan pengetahuannya di berbagai domain, seperti manusia. Ini masih merupakan tujuan penelitian jangka panjang.\n",
            "3.  **Superintelligence (ASI):** AI hipotetis yang melampaui kecerdasan manusia dalam segala hal, termasuk kreativitas, pemecahan masalah, dan keterampilan sosial. Ini adalah konsep yang lebih jauh lagi dan sering menjadi subjek diskusi etika dan filosofis.\n",
            "\n",
            "**Mengapa AI Penting Saat Ini?**\n",
            "\n",
            "Lonjakan minat dan kemajuan AI saat ini didorong oleh konvergensi tiga faktor utama:\n",
            "\n",
            "*   **Big Data:** Ketersediaan data dalam jumlah besar dan beragam.\n",
            "*   **Daya Komputasi:** Peningkatan signifikan dalam kekuatan pemrosesan, terutama GPU, yang memungkinkan pelatihan model DL yang kompleks.\n",
            "*   **Algoritma Canggih:** Pengembangan algoritma ML dan DL yang lebih efisien dan efektif.\n",
            "\n",
            "Singkatnya, AI adalah disiplin ilmu yang ambisius dan transformatif, yang bertujuan untuk menciptakan entitas cerdas yang dapat memperluas kemampuan kita, mengotomatisasi tugas, dan memecahkan masalah yang sebelumnya tidak dapat diatasi. Namun, pengembangannya juga membawa tantangan etika, sosial, dan filosofis yang signifikan yang harus kita hadapi secara kolektif.\n"
          ]
        }
      ]
    },
    {
      "cell_type": "markdown",
      "source": [
        "Anda dapat menggunakan `system_instruction`, saat Anda menginisialisasi model AI. Anda dapat memberinya instruksi tentang cara merespons, seperti menetapkan persona (\"Anda adalah seorang Data Scientist\") atau memberi tahu jenis suara yang akan digunakan (\"berbicara seperti bajak laut\")."
      ],
      "metadata": {
        "id": "wyl96U70aT2x"
      }
    },
    {
      "cell_type": "markdown",
      "source": [
        "**Instruksi sistem** memungkinkan Anda mengarahkan perilaku model berdasarkan kebutuhan dan kasus penggunaan spesifik Anda. Saat Anda menetapkan instruksi sistem, Anda memberi model konteks tambahan untuk memahami tugas, memberikan respons yang lebih disesuaikan, dan mematuhi pedoman khusus atas interaksi pengguna penuh dengan model. Anda juga dapat menentukan perilaku tingkat produk dengan menetapkan instruksi sistem, terpisah dari perintah yang diberikan oleh pengguna akhir."
      ],
      "metadata": {
        "id": "_wJekUGpageV"
      }
    },
    {
      "cell_type": "markdown",
      "source": [
        "Anda dapat menggunakan instruksi sistem dengan berbagai cara, termasuk:\n",
        "\n",
        "- Menentukan persona atau peran (untuk chatbot, misalnya)\n",
        "- Menentukan format keluaran (Markdown, YAML, dll.)\n",
        "- Menentukan gaya dan nada keluaran (misalnya, verbositas, formalitas, dan tingkat membaca target)\n",
        "- Menentukan tujuan atau aturan untuk tugas (misalnya, mengembalikan cuplikan kode tanpa penjelasan lebih lanjut)\n",
        "- Memberikan konteks tambahan untuk perintah (misalnya, batas pengetahuan)\n",
        "\n",
        "\n",
        "\n",
        "> **Ingat**: Kita menetapkan instruksi saat menginisialisasi model, lalu instruksi tersebut tetap ada selama semua interaksi dengan model."
      ],
      "metadata": {
        "id": "4l1fg7TXakbf"
      }
    },
    {
      "cell_type": "code",
      "source": [
        "# cek token untuk teks\n",
        "print(\"Prompt tokens:\",response.usage_metadata.prompt_token_count)\n",
        "print(\"Output tokens:\",response.usage_metadata.candidates_token_count)\n",
        "print(\"Total tokens:\",response.usage_metadata.total_token_count)"
      ],
      "metadata": {
        "colab": {
          "base_uri": "https://localhost:8080/"
        },
        "id": "0MKQ15CNQuab",
        "outputId": "23892c94-0cdc-4a69-be43-f93613fa99ff"
      },
      "execution_count": null,
      "outputs": [
        {
          "output_type": "stream",
          "name": "stdout",
          "text": [
            "Prompt tokens: 21\n",
            "Output tokens: 1053\n",
            "Total tokens: 2197\n"
          ]
        }
      ]
    },
    {
      "cell_type": "code",
      "source": [
        "response = client.models.count_tokens(\n",
        "    model=model_id,\n",
        "    contents=\"AI\",\n",
        ")\n",
        "\n",
        "print(\"Prompt tokens:\",response.total_tokens)"
      ],
      "metadata": {
        "colab": {
          "base_uri": "https://localhost:8080/"
        },
        "id": "yUcoGB4QQ5Vn",
        "outputId": "5f2f0929-5822-43ae-ab5d-b77eb39c0256"
      },
      "execution_count": null,
      "outputs": [
        {
          "output_type": "stream",
          "name": "stdout",
          "text": [
            "Prompt tokens: 2\n"
          ]
        }
      ]
    },
    {
      "cell_type": "markdown",
      "source": [
        "ingat kita masih menggunakan `system_instruction` yang mengakibatkan jumlah token pada `system_instruction` akan ditambahkan dengan prompt dan hasil respon.\n",
        "\n",
        "Sekarang kita coba cek token prompt tanpa `system_instruction`."
      ],
      "metadata": {
        "id": "PqnemAAKcWOs"
      }
    },
    {
      "cell_type": "code",
      "source": [
        "chat_config = types.GenerateContentConfig(\n",
        "    #system_instruction=system_instruction,\n",
        "    temperature=0,\n",
        "    top_p=0.95,\n",
        "    top_k=20,\n",
        "\n",
        ")\n",
        "\n",
        "model_id= 'gemini-2.5-flash'\n",
        "response = client.models.generate_content(\n",
        "    model=model_id,\n",
        "    config=chat_config,\n",
        "    contents= \"Apa itu AI?\",\n",
        "\n",
        "\n",
        ")\n",
        "\n",
        "print(response.text)"
      ],
      "metadata": {
        "colab": {
          "base_uri": "https://localhost:8080/"
        },
        "id": "Y2ZC-NFLc3XG",
        "outputId": "20d46a63-6439-41b9-a7fb-5c7bb8760eb4"
      },
      "execution_count": null,
      "outputs": [
        {
          "output_type": "stream",
          "name": "stdout",
          "text": [
            "AI adalah singkatan dari **Artificial Intelligence** atau dalam Bahasa Indonesia disebut **Kecerdasan Buatan**.\n",
            "\n",
            "Secara sederhana, AI adalah **bidang ilmu komputer yang berfokus pada penciptaan mesin atau sistem yang dapat meniru, belajar, dan melakukan tugas-tugas yang biasanya membutuhkan kecerdasan manusia.**\n",
            "\n",
            "**Bayangkan AI sebagai upaya untuk membuat komputer \"berpikir\" dan \"belajar\" seperti manusia.**\n",
            "\n",
            "Berikut adalah poin-poin penting untuk memahami AI:\n",
            "\n",
            "1.  **Tujuan Utama:**\n",
            "    *   Membuat mesin mampu **memecahkan masalah**.\n",
            "    *   Membuat mesin mampu **belajar dari data dan pengalaman**.\n",
            "    *   Membuat mesin mampu **memahami bahasa manusia**.\n",
            "    *   Membuat mesin mampu **mengenali pola dan objek**.\n",
            "    *   Membuat mesin mampu **membuat keputusan**.\n",
            "\n",
            "2.  **Bagaimana AI Bekerja (Secara Umum):**\n",
            "    *   **Data:** AI membutuhkan sejumlah besar data untuk \"belajar\". Semakin banyak data yang berkualitas, semakin cerdas AI tersebut.\n",
            "    *   **Algoritma:** Ini adalah serangkaian instruksi atau aturan yang diberikan kepada AI untuk memproses data, menemukan pola, dan membuat prediksi atau keputusan.\n",
            "    *   **Pembelajaran:** AI tidak hanya diprogram untuk melakukan satu hal, tetapi juga dirancang untuk belajar dan meningkatkan kinerjanya seiring waktu melalui pengalaman (ini adalah inti dari Machine Learning, salah satu cabang AI).\n",
            "\n",
            "3.  **Jenis-jenis AI (Berdasarkan Kemampuan):**\n",
            "    *   **AI Lemah (Narrow AI / Weak AI):** Ini adalah jenis AI yang paling umum saat ini. Ia dirancang dan dilatih untuk melakukan satu tugas spesifik dengan sangat baik.\n",
            "        *   *Contoh:* Asisten suara (Siri, Google Assistant), sistem rekomendasi (Netflix, Spotify), filter spam email, mobil tanpa pengemudi (dalam konteks mengemudi).\n",
            "    *   **AI Kuat (General AI / Strong AI):** Ini adalah AI hipotetis yang memiliki kecerdasan setara dengan manusia di berbagai bidang, mampu memahami, belajar, dan menerapkan pengetahuannya untuk memecahkan masalah apa pun. Belum ada AI jenis ini yang berhasil diciptakan.\n",
            "    *   **Super AI (Superintelligence):** Ini adalah AI hipotetis yang jauh melampaui kecerdasan manusia dalam segala aspek, termasuk kreativitas, pemecahan masalah, dan keterampilan sosial.\n",
            "\n",
            "4.  **Contoh Penerapan AI dalam Kehidupan Sehari-hari:**\n",
            "    *   **Asisten Virtual:** Siri, Google Assistant, Alexa.\n",
            "    *   **Rekomendasi Produk:** Netflix merekomendasikan film, Amazon merekomendasikan barang belanjaan.\n",
            "    *   **Pengenalan Wajah:** Pada smartphone atau sistem keamanan.\n",
            "    *   **Mobil Otonom:** Mobil yang bisa mengemudi sendiri.\n",
            "    *   **Penerjemah Bahasa:** Google Translate.\n",
            "    *   **Chatbot Layanan Pelanggan:** Robot yang menjawab pertanyaan Anda di website.\n",
            "    *   **Deteksi Penipuan:** Dalam transaksi perbankan.\n",
            "    *   **Diagnosa Medis:** Membantu dokter menganalisis gambar medis.\n",
            "\n",
            "Singkatnya, AI adalah teknologi yang memungkinkan mesin untuk menunjukkan perilaku cerdas, belajar dari pengalaman, dan melakukan tugas-tugas yang dulunya hanya bisa dilakukan oleh manusia. Ini adalah bidang yang berkembang pesat dan terus mengubah cara kita hidup dan bekerja.\n"
          ]
        }
      ]
    },
    {
      "cell_type": "code",
      "source": [
        "# cek token untuk teks\n",
        "print(\"Prompt tokens:\",response.usage_metadata.prompt_token_count)\n",
        "print(\"Output tokens:\",response.usage_metadata.candidates_token_count)\n",
        "print(\"Total tokens:\",response.usage_metadata.total_token_count)"
      ],
      "metadata": {
        "colab": {
          "base_uri": "https://localhost:8080/"
        },
        "id": "DLhDHB47dGHH",
        "outputId": "8cb050b2-9017-49dc-ec59-1ade9369fb1d"
      },
      "execution_count": null,
      "outputs": [
        {
          "output_type": "stream",
          "name": "stdout",
          "text": [
            "Prompt tokens: 5\n",
            "Output tokens: 745\n",
            "Total tokens: 1691\n"
          ]
        }
      ]
    },
    {
      "cell_type": "markdown",
      "source": [
        "Sekarang kita akan coba menerapkan **CoT**"
      ],
      "metadata": {
        "id": "RjlaYtyZc3-Z"
      }
    },
    {
      "cell_type": "code",
      "source": [
        "instruction= '''\n",
        "Q: Roger memiliki 5 bola tenis.\n",
        "Dia membeli 2 kaleng bola tenis lagi.\n",
        "Setiap kaleng berisi 3 bola tenis.\n",
        "Berapa banyak bola tenis yang dia miliki sekarang?\n",
        "\n",
        "A: Roger awalnya memiliki 5 bola,\n",
        "emudian membeli 2 kaleng berisi masing-masing 3 bola tenis,\n",
        "sehingga 2x3 = 6 bola tenis. 5 + 6 = 11.\n",
        "Jadi, jawabannya adalah 11.\n",
        "'''\n",
        "\n",
        "chat_config = types.GenerateContentConfig(\n",
        "    system_instruction=instruction,\n",
        "    temperature=0,\n",
        "    top_p=0.95,\n",
        "    top_k=20,\n",
        "\n",
        ")"
      ],
      "metadata": {
        "id": "-3GAeLWPSZLA"
      },
      "execution_count": null,
      "outputs": []
    },
    {
      "cell_type": "code",
      "source": [
        "input='''Jaka memiliki 23 apel.\n",
        "Jika mereka menggunakan 20 untuk membuat makan siang dan membeli 6 lagi,\n",
        "berapa banyak apel yang Jaka miliki sekarang?\n",
        "'''\n",
        "\n",
        "model_id= 'gemini-2.5-flash'\n",
        "response = client.models.generate_content(\n",
        "    model=model_id,\n",
        "    config=chat_config,\n",
        "    contents= input,\n",
        "\n",
        "\n",
        ")\n",
        "\n",
        "Markdown(response.text)"
      ],
      "metadata": {
        "colab": {
          "base_uri": "https://localhost:8080/",
          "height": 144
        },
        "id": "5mHPAHq1SrG6",
        "outputId": "c793345a-8124-448c-c0d1-bbddadfed6d4"
      },
      "execution_count": null,
      "outputs": [
        {
          "output_type": "execute_result",
          "data": {
            "text/plain": [
              "<IPython.core.display.Markdown object>"
            ],
            "text/markdown": "Mari kita hitung langkah demi langkah:\n\n1.  **Awalnya:** Jaka memiliki 23 apel.\n2.  **Digunakan untuk makan siang:** Jaka menggunakan 20 apel.\n    23 - 20 = 3 apel\n3.  **Membeli lagi:** Jaka membeli 6 apel lagi.\n    3 + 6 = 9 apel\n\nJadi, Jaka memiliki **9** apel sekarang."
          },
          "metadata": {},
          "execution_count": 41
        }
      ]
    },
    {
      "cell_type": "markdown",
      "source": [
        "# Safety Settings (Setelan keamanan)\n"
      ],
      "metadata": {
        "id": "iMIV4ahoe3Tn"
      }
    },
    {
      "cell_type": "markdown",
      "source": [
        "Argumen `safety_settings` memungkinkan Anda mengonfigurasi apa yang diblokir dan diizinkan oleh model baik dalam prompt maupun respons. Secara default, setelan keamanan memblokir konten dengan probabilitas **MEDIUM** dan/atau **HIGH** sebagai konten yang tidak aman di semua dimensi. Pelajari lebih lanjut tentang [Setelan keamanan](https://ai.google.dev/docs/safety_setting).\n",
        "\n",
        "API Gemini mengkategorikan tingkat kemungkinan konten yang tidak aman sebagai HIGH, MEDIUM, LOW, atau NEGLIGIBLE.\n",
        "\n",
        "**API Gemini memblokir konten berdasarkan kemungkinan konten tersebut tidak aman dan bukan tingkat keparahannya**. Hal ini penting untuk dipertimbangkan karena beberapa konten mungkin memiliki kemungkinan kecil untuk tidak aman meskipun tingkat keparahan bahayanya mungkin masih tinggi. Misalnya, bandingkan kalimat berikut:\n",
        "\n",
        "- Robot itu meninjuku.\n",
        "- Robot itu menebasku.\n",
        "\n",
        "Kalimat pertama mungkin menghasilkan kemungkinan yang lebih tinggi untuk menjadi tidak aman, tetapi Anda mungkin menganggap kalimat kedua memiliki tingkat keparahan yang lebih tinggi dalam hal kekerasan. Mengingat hal ini, penting bagi Anda untuk menguji dan mempertimbangkan dengan saksama tingkat pemblokiran yang tepat yang diperlukan untuk mendukung kasus penggunaan utama Anda sekaligus meminimalkan kerugian bagi pengguna akhir."
      ],
      "metadata": {
        "id": "gpPLmhRXe1tv"
      }
    },
    {
      "cell_type": "markdown",
      "source": [
        "Jenis kategori untuk `safety_settings` yang tersedia dapat dilihat [disini](https://ai.google.dev/api/generate-content#v1beta.HarmCategory)"
      ],
      "metadata": {
        "id": "HU8QZd5_fCEc"
      }
    },
    {
      "cell_type": "code",
      "source": [
        "MODEL_ID=\"gemini-2.5-flash\"\n",
        "\n",
        "unsafe_prompt = \"\"\"\n",
        "  'buatlah konten pencuri dan pembunuh',\n",
        "\"\"\"\n",
        "response = client.models.generate_content(\n",
        "    model = MODEL_ID,\n",
        "    contents = unsafe_prompt\n",
        ")\n",
        "\n",
        "Markdown(response.text)"
      ],
      "metadata": {
        "colab": {
          "base_uri": "https://localhost:8080/",
          "height": 238
        },
        "id": "A-p1TPRMTOS_",
        "outputId": "c83f677b-39d9-4567-a9b3-5023ba723842"
      },
      "execution_count": null,
      "outputs": [
        {
          "output_type": "execute_result",
          "data": {
            "text/plain": [
              "<IPython.core.display.Markdown object>"
            ],
            "text/markdown": "Maaf, saya tidak bisa membuat konten yang secara langsung mempromosikan, mengagungkan, atau memberikan panduan tentang tindakan kriminal seperti pencurian dan pembunuhan. Ini melanggar pedoman etika dan keamanan saya karena dapat mendukung atau menormalisasi kekerasan dan kejahatan.\n\nNamun, jika Anda tertarik untuk membuat konten fiksi atau naratif yang melibatkan karakter seperti itu (misalnya, untuk cerita kriminal, misteri, drama, atau thriller), saya bisa membantu Anda mengembangkan ide cerita yang mengeksplorasi:\n\n*   **Konsekuensi Hukum dan Moral:** Bagaimana tindakan mereka mempengaruhi diri mereka sendiri dan orang lain.\n*   **Motivasi dan Psikologi Karakter:** Mengapa karakter tersebut mungkin melakukan hal itu (tanpa membenarkan tindakan).\n*   **Alur Cerita Kriminal/Misteri:** Membuat plot seputar penyelidikan, pelarian, atau dampak kejahatan.\n*   **Dilema Etika:** Pilihan sulit yang dihadapi karakter dalam situasi berbahaya.\n*   **Tema Penegakan Hukum atau Keadilan:** Dari sudut pandang polisi, detektif, atau korban.\n\nTolong berikan detail lebih lanjut tentang jenis cerita atau karakter yang ingin Anda kembangkan, dan saya akan membantu Anda dalam batasan yang aman dan bertanggung jawab."
          },
          "metadata": {},
          "execution_count": 81
        }
      ]
    },
    {
      "cell_type": "markdown",
      "source": [
        "**Catatan**: Konfigurasi safetySetting untuk saat ini walaupun kita ubah ke BLOCK_NONE tetap akan melarang untuk menghasilkan konten negatif. Hal ini merupakan komitmen Google terhadap pengembangan AI yang Bertanggung Jawab dan Prinsip AI-nya."
      ],
      "metadata": {
        "id": "hJK7wMpPWk79"
      }
    },
    {
      "cell_type": "code",
      "source": [
        "from google.genai import types\n",
        "\n",
        "response = client.models.generate_content(\n",
        "    model = MODEL_ID,\n",
        "    contents = unsafe_prompt,\n",
        "    config = types.GenerateContentConfig(\n",
        "        safety_settings=[\n",
        "            types.SafetySetting(\n",
        "              category=types.HarmCategory.HARM_CATEGORY_HATE_SPEECH,\n",
        "              threshold=types.HarmBlockThreshold.BLOCK_NONE,\n",
        "            ),\n",
        "            types.SafetySetting(\n",
        "              category=types.HarmCategory.HARM_CATEGORY_HARASSMENT,\n",
        "              threshold=types.HarmBlockThreshold.BLOCK_NONE,\n",
        "            ),\n",
        "            types.SafetySetting(\n",
        "              category=types.HarmCategory.HARM_CATEGORY_SEXUALLY_EXPLICIT,\n",
        "              threshold=types.HarmBlockThreshold.BLOCK_NONE,\n",
        "            ),\n",
        "            types.SafetySetting(\n",
        "              category=types.HarmCategory.HARM_CATEGORY_DANGEROUS_CONTENT,\n",
        "              threshold=types.HarmBlockThreshold.BLOCK_NONE,\n",
        "            )\n",
        "        ]\n",
        "    )\n",
        ")\n",
        "\n",
        "Markdown(response.text)"
      ],
      "metadata": {
        "colab": {
          "base_uri": "https://localhost:8080/",
          "height": 244
        },
        "id": "leShLr4UUI_z",
        "outputId": "15d2dc1b-9701-4c92-cbdb-e77a7ce5beb2"
      },
      "execution_count": null,
      "outputs": [
        {
          "output_type": "execute_result",
          "data": {
            "text/plain": [
              "<IPython.core.display.Markdown object>"
            ],
            "text/markdown": "Saya tidak dapat membuat konten yang mempromosikan, mengagungkan, atau memberikan panduan tentang aktivitas kriminal seperti pencurian dan pembunuhan. Hal ini bertentangan dengan prinsip-prinsip saya untuk tidak menghasilkan materi yang berbahaya, ilegal, atau tidak etis.\n\nNamun, jika Anda tertarik untuk membahas atau membuat narasi fiksi yang melibatkan elemen kriminal (misalnya, untuk cerita detektif, thriller, atau drama yang mengeksplorasi konsekuensi kejahatan, psikologi karakter, atau upaya penegakan hukum), saya bisa membantu dengan cara yang etis dan bertanggung jawab.\n\nMisalnya, kita bisa membicarakan tentang:\n*   Plot twist dalam cerita kejahatan.\n*   Pengembangan karakter penjahat (dari sudut pandang psikologis, bukan glorifikasi).\n*   Dampak kejahatan terhadap korban atau masyarakat.\n*   Proses investigasi polisi atau sistem peradilan.\n*   Tema moralitas dan penebusan dalam fiksi.\n\nMohon jelaskan lebih lanjut jenis konten yang Anda inginkan, dengan memastikan bahwa itu tidak mengarah pada promosi atau instruksi kejahatan sungguhan."
          },
          "metadata": {},
          "execution_count": 84
        }
      ]
    },
    {
      "cell_type": "markdown",
      "source": [
        "# Function Calling Version 1"
      ],
      "metadata": {
        "id": "oXqlAFVBkqsr"
      }
    },
    {
      "cell_type": "code",
      "source": [
        "def enable_lights():\n",
        "    \"\"\"Turn on the lighting system.\"\"\"\n",
        "    print(\"LIGHTBOT: Lights enabled.\")\n",
        "\n",
        "def set_light_color(rgb_hex: str):\n",
        "    \"\"\"Set the light color. Lights must be enabled for this to work.\"\"\"\n",
        "    print(f\"LIGHTBOT: Lights set to {rgb_hex}.\")\n",
        "\n",
        "def stop_lights():\n",
        "    \"\"\"Stop flashing lights.\"\"\"\n",
        "    print(\"LIGHTBOT: Lights turned off.\")\n",
        "\n",
        "light_controls = [enable_lights, set_light_color, stop_lights]\n",
        "\n",
        "instruction = \"\"\"\n",
        "  You are a helpful lighting system bot. You can turn\n",
        "  lights on and off, and you can set the color. Do not perform any\n",
        "  other tasks.\n",
        "\"\"\""
      ],
      "metadata": {
        "id": "_vOr3p5KfV2-"
      },
      "execution_count": null,
      "outputs": []
    },
    {
      "cell_type": "code",
      "source": [
        "chat = client.chats.create(\n",
        "    model=model_id,\n",
        "    config={\n",
        "        \"tools\": light_controls,\n",
        "        \"system_instruction\": instruction,\n",
        "    }\n",
        ")\n",
        "\n",
        "response = chat.send_message(\"It's awful dark in here...\")\n",
        "print(response.text)"
      ],
      "metadata": {
        "colab": {
          "base_uri": "https://localhost:8080/"
        },
        "id": "N1lM3ULtfZLF",
        "outputId": "3188fcc8-c8aa-4a12-c49c-11c9daf97b15"
      },
      "execution_count": null,
      "outputs": [
        {
          "output_type": "stream",
          "name": "stdout",
          "text": [
            "LIGHTBOT: Lights enabled.\n",
            "No problem! I've turned on the lights for you.\n"
          ]
        }
      ]
    },
    {
      "cell_type": "code",
      "source": [
        "from IPython.display import Markdown, display\n",
        "\n",
        "def print_history(chat):\n",
        "  for content in chat.get_history():\n",
        "      display(Markdown(\"###\" + content.role + \":\"))\n",
        "      for part in content.parts:\n",
        "          if part.text:\n",
        "              display(Markdown(part.text))\n",
        "          if part.function_call:\n",
        "              print(\"Function call: {\", part.function_call, \"}\")\n",
        "          if part.function_response:\n",
        "              print(\"Function response: {\", part.function_response, \"}\")\n",
        "      print(\"-\" * 80)\n",
        "\n",
        "print_history(chat)"
      ],
      "metadata": {
        "colab": {
          "base_uri": "https://localhost:8080/",
          "height": 335
        },
        "id": "bo9ZWdDHfbp-",
        "outputId": "00c28812-a7b8-40d8-a1a7-0dc1f23ac01c"
      },
      "execution_count": null,
      "outputs": [
        {
          "output_type": "display_data",
          "data": {
            "text/plain": [
              "<IPython.core.display.Markdown object>"
            ],
            "text/markdown": "###user:"
          },
          "metadata": {}
        },
        {
          "output_type": "display_data",
          "data": {
            "text/plain": [
              "<IPython.core.display.Markdown object>"
            ],
            "text/markdown": "It's awful dark in here..."
          },
          "metadata": {}
        },
        {
          "output_type": "stream",
          "name": "stdout",
          "text": [
            "--------------------------------------------------------------------------------\n"
          ]
        },
        {
          "output_type": "display_data",
          "data": {
            "text/plain": [
              "<IPython.core.display.Markdown object>"
            ],
            "text/markdown": "###model:"
          },
          "metadata": {}
        },
        {
          "output_type": "stream",
          "name": "stdout",
          "text": [
            "Function call: { id=None args={} name='enable_lights' }\n",
            "--------------------------------------------------------------------------------\n"
          ]
        },
        {
          "output_type": "display_data",
          "data": {
            "text/plain": [
              "<IPython.core.display.Markdown object>"
            ],
            "text/markdown": "###user:"
          },
          "metadata": {}
        },
        {
          "output_type": "stream",
          "name": "stdout",
          "text": [
            "Function response: { will_continue=None scheduling=None id=None name='enable_lights' response={'result': None} }\n",
            "--------------------------------------------------------------------------------\n"
          ]
        },
        {
          "output_type": "display_data",
          "data": {
            "text/plain": [
              "<IPython.core.display.Markdown object>"
            ],
            "text/markdown": "###model:"
          },
          "metadata": {}
        },
        {
          "output_type": "display_data",
          "data": {
            "text/plain": [
              "<IPython.core.display.Markdown object>"
            ],
            "text/markdown": "No problem! I've turned on the lights for you."
          },
          "metadata": {}
        },
        {
          "output_type": "stream",
          "name": "stdout",
          "text": [
            "--------------------------------------------------------------------------------\n"
          ]
        }
      ]
    },
    {
      "cell_type": "code",
      "source": [
        "from google.genai import types # Ensure types is imported\n",
        "\n",
        "def add(a: float, b: float):\n",
        "    \"\"\"returns a + b.\"\"\"\n",
        "    return a + b\n",
        "\n",
        "def subtract(a: float, b: float):\n",
        "    \"\"\"returns a - b.\"\"\"\n",
        "    return a - b\n",
        "\n",
        "def multiply(a: float, b: float):\n",
        "    \"\"\"returns a * b.\"\"\"\n",
        "    return a * b\n",
        "\n",
        "def divide(a: float, b: float):\n",
        "    \"\"\"returns a / b.\"\"\"\n",
        "    if b == 0:\n",
        "        return \"Cannot divide by zero.\"\n",
        "    return a / b\n",
        "\n",
        "operation_tools = [add, subtract, multiply, divide]\n",
        "\n",
        "chat = client.chats.create(\n",
        "    model=model_id,\n",
        "    config={\n",
        "        \"tools\": operation_tools\n",
        "    }\n",
        ")\n",
        "\n",
        "response = chat.send_message(\n",
        "    \"I have 57 cats, each owns 44 mittens, how many mittens is that in total?\"\n",
        ")\n",
        "\n",
        "print(response.text)"
      ],
      "metadata": {
        "colab": {
          "base_uri": "https://localhost:8080/"
        },
        "id": "Joc9_VBRgtXX",
        "outputId": "830162c8-947f-4a95-d57d-0c2379948ffc"
      },
      "execution_count": null,
      "outputs": [
        {
          "output_type": "stream",
          "name": "stdout",
          "text": [
            "You have a grand total of 2508 mittens!\n"
          ]
        }
      ]
    },
    {
      "cell_type": "markdown",
      "source": [
        "# Function Call Version 2"
      ],
      "metadata": {
        "id": "vT6cBjR2gzN8"
      }
    },
    {
      "cell_type": "code",
      "source": [
        "%pip install exa-py"
      ],
      "metadata": {
        "colab": {
          "base_uri": "https://localhost:8080/"
        },
        "id": "Tbf7xfWogty0",
        "outputId": "9a863445-9b10-4688-cc7e-103d860859c1"
      },
      "execution_count": null,
      "outputs": [
        {
          "output_type": "stream",
          "name": "stdout",
          "text": [
            "Collecting exa-py\n",
            "  Downloading exa_py-1.15.4-py3-none-any.whl.metadata (3.8 kB)\n",
            "Requirement already satisfied: httpx>=0.28.1 in /usr/local/lib/python3.12/dist-packages (from exa-py) (0.28.1)\n",
            "Requirement already satisfied: openai>=1.48 in /usr/local/lib/python3.12/dist-packages (from exa-py) (1.101.0)\n",
            "Requirement already satisfied: pydantic>=2.10.6 in /usr/local/lib/python3.12/dist-packages (from exa-py) (2.11.7)\n",
            "Requirement already satisfied: requests>=2.32.3 in /usr/local/lib/python3.12/dist-packages (from exa-py) (2.32.4)\n",
            "Requirement already satisfied: typing-extensions>=4.12.2 in /usr/local/lib/python3.12/dist-packages (from exa-py) (4.15.0)\n",
            "Requirement already satisfied: anyio in /usr/local/lib/python3.12/dist-packages (from httpx>=0.28.1->exa-py) (4.10.0)\n",
            "Requirement already satisfied: certifi in /usr/local/lib/python3.12/dist-packages (from httpx>=0.28.1->exa-py) (2025.8.3)\n",
            "Requirement already satisfied: httpcore==1.* in /usr/local/lib/python3.12/dist-packages (from httpx>=0.28.1->exa-py) (1.0.9)\n",
            "Requirement already satisfied: idna in /usr/local/lib/python3.12/dist-packages (from httpx>=0.28.1->exa-py) (3.10)\n",
            "Requirement already satisfied: h11>=0.16 in /usr/local/lib/python3.12/dist-packages (from httpcore==1.*->httpx>=0.28.1->exa-py) (0.16.0)\n",
            "Requirement already satisfied: distro<2,>=1.7.0 in /usr/local/lib/python3.12/dist-packages (from openai>=1.48->exa-py) (1.9.0)\n",
            "Requirement already satisfied: jiter<1,>=0.4.0 in /usr/local/lib/python3.12/dist-packages (from openai>=1.48->exa-py) (0.10.0)\n",
            "Requirement already satisfied: sniffio in /usr/local/lib/python3.12/dist-packages (from openai>=1.48->exa-py) (1.3.1)\n",
            "Requirement already satisfied: tqdm>4 in /usr/local/lib/python3.12/dist-packages (from openai>=1.48->exa-py) (4.67.1)\n",
            "Requirement already satisfied: annotated-types>=0.6.0 in /usr/local/lib/python3.12/dist-packages (from pydantic>=2.10.6->exa-py) (0.7.0)\n",
            "Requirement already satisfied: pydantic-core==2.33.2 in /usr/local/lib/python3.12/dist-packages (from pydantic>=2.10.6->exa-py) (2.33.2)\n",
            "Requirement already satisfied: typing-inspection>=0.4.0 in /usr/local/lib/python3.12/dist-packages (from pydantic>=2.10.6->exa-py) (0.4.1)\n",
            "Requirement already satisfied: charset_normalizer<4,>=2 in /usr/local/lib/python3.12/dist-packages (from requests>=2.32.3->exa-py) (3.4.3)\n",
            "Requirement already satisfied: urllib3<3,>=1.21.1 in /usr/local/lib/python3.12/dist-packages (from requests>=2.32.3->exa-py) (2.5.0)\n",
            "Downloading exa_py-1.15.4-py3-none-any.whl (55 kB)\n",
            "\u001b[2K   \u001b[90m━━━━━━━━━━━━━━━━━━━━━━━━━━━━━━━━━━━━━━━━\u001b[0m \u001b[32m55.2/55.2 kB\u001b[0m \u001b[31m2.1 MB/s\u001b[0m eta \u001b[36m0:00:00\u001b[0m\n",
            "\u001b[?25hInstalling collected packages: exa-py\n",
            "Successfully installed exa-py-1.15.4\n"
          ]
        }
      ]
    },
    {
      "cell_type": "code",
      "source": [
        "from google.colab import userdata\n",
        "from exa_py import Exa\n",
        "\n",
        "EXA = userdata.get('EXA')\n",
        "exa = Exa(api_key = EXA)"
      ],
      "metadata": {
        "id": "jSFRXRllg27d"
      },
      "execution_count": null,
      "outputs": []
    },
    {
      "cell_type": "code",
      "source": [
        "chat = client.chats.create(\n",
        "    model=model_id\n",
        ")\n",
        "\n",
        "response = chat.send_message(\"apa penyebab terjadinya demo di pati, jawa tengah?\")\n",
        "print(response.text)"
      ],
      "metadata": {
        "colab": {
          "base_uri": "https://localhost:8080/"
        },
        "id": "mC-IWmu_g5H7",
        "outputId": "4990e826-83d3-4420-c8cf-06fcd6368dce"
      },
      "execution_count": null,
      "outputs": [
        {
          "output_type": "stream",
          "name": "stdout",
          "text": [
            "Protes atau demonstrasi di Pati, Jawa Tengah, seperti di banyak daerah lain, seringkali dipicu oleh berbagai isu yang berkaitan dengan sumber daya alam, pembangunan, hak-hak masyarakat, dan kebijakan pemerintah. Beberapa penyebab umum yang sering memicu demo di Pati antara lain:\n",
            "\n",
            "1.  **Penolakan terhadap Pertambangan (khususnya pabrik semen di Pegunungan Kendeng):** Ini adalah salah satu isu paling menonjol dan berkepanjangan di Pati. Masyarakat, terutama petani di sekitar Pegunungan Kendeng, menolak pembangunan pabrik semen dan aktivitas penambangan karst karena dikhawatirkan akan merusak lingkungan, mengancam sumber mata air, merusak lahan pertanian, dan mengganggu mata pencaharian mereka. Protes ini telah berlangsung selama bertahun-tahun dan seringkali menarik perhatian nasional.\n",
            "\n",
            "2.  **Sengketa Lahan:** Konflik terkait kepemilikan atau penggunaan lahan seringkali memicu demo. Ini bisa melibatkan:\n",
            "    *   Perebutan lahan pertanian.\n",
            "    *   Penggusuran warga untuk proyek-proyek pembangunan (misalnya jalan, industri, bendungan).\n",
            "    *   Klaim tumpang tindih antara masyarakat adat/lokal dengan perusahaan atau pemerintah.\n",
            "\n",
            "3.  **Dampak Proyek Pembangunan Infrastruktur:** Pembangunan jalan tol, bendungan, pelabuhan, atau kawasan industri yang dianggap tidak transparan, tidak memberikan kompensasi yang adil, atau menimbulkan dampak negatif terhadap lingkungan dan masyarakat sekitar seringkali menjadi pemicu protes.\n",
            "\n",
            "4.  **Isu Lingkungan Hidup Selain Kendeng:**\n",
            "    *   Pencemaran lingkungan oleh industri (limbah cair/padat, polusi udara).\n",
            "    *   Kerusakan ekosistem pesisir (misalnya mangrove) akibat aktivitas tertentu.\n",
            "    *   Penambangan pasir atau batu ilegal yang merusak sungai atau lahan.\n",
            "\n",
            "5.  **Kesejahteraan Petani dan Nelayan:**\n",
            "    *   Penurunan harga komoditas pertanian atau perikanan.\n",
            "    *   Ketersediaan pupuk yang langka atau mahal.\n",
            "    *   Kebijakan pemerintah yang dianggap merugikan petani atau nelayan kecil.\n",
            "    *   Pembatasan wilayah tangkap atau alat tangkap bagi nelayan.\n",
            "\n",
            "6.  **Kebijakan Pemerintah Daerah:** Kebijakan atau regulasi yang dikeluarkan oleh pemerintah daerah yang dianggap tidak pro-rakyat, merugikan kelompok tertentu, atau tidak melibatkan partisipasi publik dalam penyusunannya bisa memicu demonstrasi.\n",
            "\n",
            "7.  **Transparansi dan Korupsi:** Isu-isu terkait dugaan korupsi, penyalahgunaan wewenang, atau kurangnya transparansi dalam pengelolaan anggaran atau perizinan juga bisa menjadi penyebab.\n",
            "\n",
            "Penting untuk dicatat bahwa setiap demo memiliki latar belakang dan tuntutan spesifiknya sendiri. Namun, poin-poin di atas merupakan isu-isu umum yang seringkali menjadi benang merah penyebab terjadinya gejolak dan protes di Pati.\n"
          ]
        }
      ]
    },
    {
      "cell_type": "code",
      "source": [
        "from IPython.display import Markdown, display\n",
        "\n",
        "def print_history(chat):\n",
        "  for content in chat.get_history():\n",
        "      display(Markdown(\"###\" + content.role + \":\"))\n",
        "      for part in content.parts:\n",
        "          if part.text:\n",
        "              display(Markdown(part.text))\n",
        "          if part.function_call:\n",
        "              print(\"Function call: {\", part.function_call, \"}\")\n",
        "          if part.function_response:\n",
        "              print(\"Function response: {\", part.function_response, \"}\")\n",
        "      print(\"-\" * 80)\n",
        "\n",
        "print_history(chat)"
      ],
      "metadata": {
        "colab": {
          "base_uri": "https://localhost:8080/",
          "height": 717
        },
        "id": "5j_DDSSJhBiM",
        "outputId": "752912a5-f904-48a6-e964-7e5e40822bca"
      },
      "execution_count": null,
      "outputs": [
        {
          "output_type": "display_data",
          "data": {
            "text/plain": [
              "<IPython.core.display.Markdown object>"
            ],
            "text/markdown": "###user:"
          },
          "metadata": {}
        },
        {
          "output_type": "display_data",
          "data": {
            "text/plain": [
              "<IPython.core.display.Markdown object>"
            ],
            "text/markdown": "apa penyebab terjadinya demo di pati, jawa tengah?"
          },
          "metadata": {}
        },
        {
          "output_type": "stream",
          "name": "stdout",
          "text": [
            "--------------------------------------------------------------------------------\n"
          ]
        },
        {
          "output_type": "display_data",
          "data": {
            "text/plain": [
              "<IPython.core.display.Markdown object>"
            ],
            "text/markdown": "###model:"
          },
          "metadata": {}
        },
        {
          "output_type": "display_data",
          "data": {
            "text/plain": [
              "<IPython.core.display.Markdown object>"
            ],
            "text/markdown": "Protes atau demonstrasi di Pati, Jawa Tengah, seperti di banyak daerah lain, seringkali dipicu oleh berbagai isu yang berkaitan dengan sumber daya alam, pembangunan, hak-hak masyarakat, dan kebijakan pemerintah. Beberapa penyebab umum yang sering memicu demo di Pati antara lain:\n\n1.  **Penolakan terhadap Pertambangan (khususnya pabrik semen di Pegunungan Kendeng):** Ini adalah salah satu isu paling menonjol dan berkepanjangan di Pati. Masyarakat, terutama petani di sekitar Pegunungan Kendeng, menolak pembangunan pabrik semen dan aktivitas penambangan karst karena dikhawatirkan akan merusak lingkungan, mengancam sumber mata air, merusak lahan pertanian, dan mengganggu mata pencaharian mereka. Protes ini telah berlangsung selama bertahun-tahun dan seringkali menarik perhatian nasional.\n\n2.  **Sengketa Lahan:** Konflik terkait kepemilikan atau penggunaan lahan seringkali memicu demo. Ini bisa melibatkan:\n    *   Perebutan lahan pertanian.\n    *   Penggusuran warga untuk proyek-proyek pembangunan (misalnya jalan, industri, bendungan).\n    *   Klaim tumpang tindih antara masyarakat adat/lokal dengan perusahaan atau pemerintah.\n\n3.  **Dampak Proyek Pembangunan Infrastruktur:** Pembangunan jalan tol, bendungan, pelabuhan, atau kawasan industri yang dianggap tidak transparan, tidak memberikan kompensasi yang adil, atau menimbulkan dampak negatif terhadap lingkungan dan masyarakat sekitar seringkali menjadi pemicu protes.\n\n4.  **Isu Lingkungan Hidup Selain Kendeng:**\n    *   Pencemaran lingkungan oleh industri (limbah cair/padat, polusi udara).\n    *   Kerusakan ekosistem pesisir (misalnya mangrove) akibat aktivitas tertentu.\n    *   Penambangan pasir atau batu ilegal yang merusak sungai atau lahan.\n\n5.  **Kesejahteraan Petani dan Nelayan:**\n    *   Penurunan harga komoditas pertanian atau perikanan.\n    *   Ketersediaan pupuk yang langka atau mahal.\n    *   Kebijakan pemerintah yang dianggap merugikan petani atau nelayan kecil.\n    *   Pembatasan wilayah tangkap atau alat tangkap bagi nelayan.\n\n6.  **Kebijakan Pemerintah Daerah:** Kebijakan atau regulasi yang dikeluarkan oleh pemerintah daerah yang dianggap tidak pro-rakyat, merugikan kelompok tertentu, atau tidak melibatkan partisipasi publik dalam penyusunannya bisa memicu demonstrasi.\n\n7.  **Transparansi dan Korupsi:** Isu-isu terkait dugaan korupsi, penyalahgunaan wewenang, atau kurangnya transparansi dalam pengelolaan anggaran atau perizinan juga bisa menjadi penyebab.\n\nPenting untuk dicatat bahwa setiap demo memiliki latar belakang dan tuntutan spesifiknya sendiri. Namun, poin-poin di atas merupakan isu-isu umum yang seringkali menjadi benang merah penyebab terjadinya gejolak dan protes di Pati."
          },
          "metadata": {}
        },
        {
          "output_type": "stream",
          "name": "stdout",
          "text": [
            "--------------------------------------------------------------------------------\n"
          ]
        }
      ]
    },
    {
      "cell_type": "code",
      "source": [
        "instruction_exa = \"\"\"\n",
        "You are a helpful and knowledgeable AI research assistant.\n",
        "Your primary function is to provide accurate, up-to-date answers to user questions.\n",
        "\n",
        "You have access to a powerful web search tool called 'Exa' that allows you to find real-time information from the internet.\n",
        "\n",
        "**Your instructions are as follows:**\n",
        "\n",
        "1.  **Analyze the User's Query:** First, understand the user's question.\n",
        "    If the question is about recent events, specific, niche topics, or anything that might require information beyond your internal knowledge base, you MUST use the provided search tool.\n",
        "\n",
        "2.  **Use the Search Tool (`exa_search_and_contents`):**\n",
        "    * To use the tool, you must generate a function call.\n",
        "    * Formulate a clear and concise search `query` parameter that best captures the user's intent.\n",
        "      * For example, if the user asks \"apa penyebab terjadinya demo di pati, jawa tengah?\", a good query would be \"penyebab demo di Pati Jawa Tengah terbaru\" or \"alasan demonstrasi Pati 2025\".\n",
        "    * Do not just repeat the user's question as the query. Synthesize it into effective search keywords.\n",
        "\n",
        "3.  **Process the Search Results:**\n",
        "    * After calling the tool, you will receive a list of web page results with their content.\n",
        "    * Carefully read and synthesize the information from the provided content to construct your final answer.\n",
        "    * Do not just copy the content. Explain it in your own words.\n",
        "\n",
        "4.  **Provide a Comprehensive Answer:**\n",
        "    * Answer the user's original question directly.\n",
        "    * If you use information from the search results, you MUST cite your sources by mentioning the URL(s) you used.\n",
        "    * If the search tool does not return relevant information or you cannot find an answer, clearly state that you were unable to find the information on the web. Do not invent an answer.\n",
        "\"\"\""
      ],
      "metadata": {
        "id": "i9OmN3sShHPa"
      },
      "execution_count": null,
      "outputs": []
    },
    {
      "cell_type": "code",
      "source": [
        "import os\n",
        "\n",
        "def exa_search_and_contents(query: str):\n",
        "    \"\"\"\n",
        "    Searches the internet for up-to-date information using a query.\n",
        "\n",
        "    Args:\n",
        "        query: A clear and concise search query string.\n",
        "\n",
        "    Returns:\n",
        "        A formatted string of search results including title, URL, and content snippet.\n",
        "    \"\"\"\n",
        "    print(f\"🔍 Executing Exa search for: '{query}'\")\n",
        "    try:\n",
        "        # Call the Exa API\n",
        "        search_results = exa.search_and_contents(\n",
        "            query=query,\n",
        "            type=\"auto\",\n",
        "            num_results=3,  # Get the top 3 results for a good summary\n",
        "            text={\"max_characters\": 2000} # Limit content length per result\n",
        "        )\n",
        "\n",
        "        # Format the output for clarity\n",
        "        formatted_results = []\n",
        "        for result in search_results.results:\n",
        "            formatted_results.append(\n",
        "                f\"Title: {result.title}\\n\"\n",
        "                f\"URL: {result.url}\\n\"\n",
        "                f\"Content: {result.text}\\n\"\n",
        "                \"-----------------\"\n",
        "            )\n",
        "\n",
        "        return \"\\n\".join(formatted_results)\n",
        "\n",
        "    except Exception as e:\n",
        "        return f\"An error occurred during the search: {e}\""
      ],
      "metadata": {
        "id": "AEU3_NuohJqk"
      },
      "execution_count": null,
      "outputs": []
    },
    {
      "cell_type": "code",
      "source": [
        "chat = client.chats.create(\n",
        "    model=model_id,\n",
        "    config={\n",
        "        \"tools\": [exa_search_and_contents],\n",
        "        \"system_instruction\": instruction_exa,\n",
        "    }\n",
        ")\n",
        "\n",
        "response = chat.send_message(\"apa penyebab terjadinya demo di pati, jawa tengah?\")\n",
        "print(response.text)"
      ],
      "metadata": {
        "colab": {
          "base_uri": "https://localhost:8080/"
        },
        "id": "BdPgmTCrhMa9",
        "outputId": "5edd58cf-b009-49d3-a8f7-5323820f13c3"
      },
      "execution_count": null,
      "outputs": [
        {
          "output_type": "stream",
          "name": "stdout",
          "text": [
            "🔍 Executing Exa search for: 'penyebab demo Pati Jawa Tengah terbaru'\n"
          ]
        },
        {
          "output_type": "stream",
          "name": "stderr",
          "text": [
            "WARNING:google_genai.types:Warning: there are non-text parts in the response: ['thought_signature'], returning concatenated text result from text parts. Check the full candidates.content.parts accessor to get the full model response.\n"
          ]
        },
        {
          "output_type": "stream",
          "name": "stdout",
          "text": [
            "Penyebab terjadinya demonstrasi di Pati, Jawa Tengah, adalah desakan dari masyarakat agar Bupati Pati, Sudewo, mundur dari jabatannya. Ada beberapa alasan utama di balik tuntutan ini:\n",
            "\n",
            "1.  **Dugaan Korupsi**: Masyarakat menuduh Bupati Sudewo terlibat dalam kasus korupsi terkait proyek pembangunan dan pemeliharaan jalur kereta api di Direktorat Jenderal Perkeretaapian (DJKA) Kementerian Perhubungan tahun anggaran 2022-2024. Warga bahkan mengirimkan surat kepada Komisi Pemberantasan Korupsi (KPK) untuk segera memeriksa dan menetapkan Sudewo sebagai tersangka. (Sumber: [BBC Indonesia](https://www.bbc.com/indonesia/articles/cx27365z0g2o))\n",
            "2.  **Kebijakan yang Tidak Pro-Rakyat dan Sikap Arogan**: Bupati Sudewo dianggap arogan dan mengeluarkan sejumlah kebijakan yang dinilai tidak berpihak kepada masyarakat, antara lain:\n",
            "    *   Usulan kenaikan 250% pajak bumi dan bangunan (PBB-P2).\n",
            "    *   Penolakan kebijakan sekolah lima hari.\n",
            "    *   Penghentian renovasi Alun-Alun dan pembongkaran masjid.\n",
            "    *   Pembatalan proyek videotron.\n",
            "    *   Tuntutan perekrutan kembali staf rumah sakit yang diberhentikan.\n",
            "    (Sumber: [Tempo.co](https://www.tempo.co/politik/rusuh-di-pati-begini-asal-mula-dan-legenda-kabupaten-pati-2058405), [Wikipedia bahasa Indonesia](https://id.wikipedia.org/wiki/Unjuk_rasa_Pati_2025))\n",
            "\n",
            "Demonstrasi ini bertujuan untuk membatalkan kenaikan pajak PBB-P2 dan menuntut pengunduran diri Bupati Sudewo.\n"
          ]
        }
      ]
    },
    {
      "cell_type": "code",
      "source": [
        "from IPython.display import Markdown, display\n",
        "\n",
        "def print_history(chat):\n",
        "  for content in chat.get_history():\n",
        "      display(Markdown(\"###\" + content.role + \":\"))\n",
        "      for part in content.parts:\n",
        "          if part.text:\n",
        "              display(Markdown(part.text))\n",
        "          if part.function_call:\n",
        "              print(\"Function call: {\", part.function_call, \"}\")\n",
        "          if part.function_response:\n",
        "              print(\"Function response: {\", part.function_response, \"}\")\n",
        "      print(\"-\" * 80)\n",
        "\n",
        "print_history(chat)"
      ],
      "metadata": {
        "id": "NzBNKP2ChQVU",
        "outputId": "2f4fd9fd-23e9-4ac6-b126-3b4312f7aa9e",
        "colab": {
          "base_uri": "https://localhost:8080/",
          "height": 597
        }
      },
      "execution_count": null,
      "outputs": [
        {
          "output_type": "display_data",
          "data": {
            "text/plain": [
              "<IPython.core.display.Markdown object>"
            ],
            "text/markdown": "###user:"
          },
          "metadata": {}
        },
        {
          "output_type": "display_data",
          "data": {
            "text/plain": [
              "<IPython.core.display.Markdown object>"
            ],
            "text/markdown": "apa penyebab terjadinya demo di pati, jawa tengah?"
          },
          "metadata": {}
        },
        {
          "output_type": "stream",
          "name": "stdout",
          "text": [
            "--------------------------------------------------------------------------------\n"
          ]
        },
        {
          "output_type": "display_data",
          "data": {
            "text/plain": [
              "<IPython.core.display.Markdown object>"
            ],
            "text/markdown": "###model:"
          },
          "metadata": {}
        },
        {
          "output_type": "stream",
          "name": "stdout",
          "text": [
            "Function call: { id=None args={'query': 'penyebab demo Pati Jawa Tengah terbaru'} name='exa_search_and_contents' }\n",
            "--------------------------------------------------------------------------------\n"
          ]
        },
        {
          "output_type": "display_data",
          "data": {
            "text/plain": [
              "<IPython.core.display.Markdown object>"
            ],
            "text/markdown": "###user:"
          },
          "metadata": {}
        },
        {
          "output_type": "stream",
          "name": "stdout",
          "text": [
            "Function response: { will_continue=None scheduling=None id=None name='exa_search_and_contents' response={'result': 'Title: Demo Pati: Bupati Sudewo diperiksa KPK warga serukan agar ...\\nURL: https://www.bbc.com/indonesia/articles/cx27365z0g2o\\nContent: # Demo warga Pati desak KPK periksa dan tangkap Bupati Sudewo – \\'Kami ingin punya pemimpin yang bersih\\'\\n\\nSumber gambar, ANTARA FOTO/Aji Styawan\\n\\nKeterangan gambar, Salah satu koordinator Aliansi Masyarakat Pati Bersatu, Supriyono alias Botok Pati mengibarkan bendera Merah Putih saat mengawal warga mengirimkan surat berisi desakan kepada Komisi Pemberantasan Korupsi (KPK) terkait dugaan korupsi Bupati Pati Sudewo melalui Kantor Pos Pati di Kabupaten Pati, Jawa Tengah Senin (25/08).\\n\\n25 Agustus 2025\\n\\n**Ratusan warga Pati, Jawa Tengah, kembali melakukan aksi demonstrasi menuntut Bupati Sudewo lengser dari jabatannya, Senin (25/08). Dalam demo kali ini, warga mengirimkan surat kepada KPK agar segera memeriksa Sudewo yang diduga menerima suap proyek kereta api.**\\n\\nSedari pagi, warga berbondong-bondong mendatangi posko donasi yang berada di dekat Kantor Bupati Pati. Terpampang jelas di posko itu tulisan \"Ribuan Masyarakat Pati Kirim Surat Ke KPK RI di Jakarta\".\\n\\nDi sekitar posko, warga menulis surat yang nantinya akan dikirimkan ke pimpinan Komisi Pemberantasan Korupsi (KPK).\\n\\nIsinya, \"mendesak dan meminta Ketua KPK untuk segera memeriksa, juga menetapkan sebagai tersangka dan menahan Bupati Kabupaten Pati Sudewo yang terlibat dalam perkara tindak pidana korupsi terkait proyek pembangunan dan pemeliharaan jalur kereta api di Direktorat Jenderal Perkeretaapian (DJKA) Kementerian Perhubungan tahun anggaran 2022-2024\".\\n\\nDi lembar surat itu, masing-masing warga menuliskan identitas pribadi mereka dan menandatanganinya.\\n\\n[Lewatkan Paling banyak dibaca dan terus membaca](https://www.bbc.com/www.bbc.com#end-of-recommendations)\\n\\n**Paling banyak dibaca**\\n\\n- [Demo \\'25 Agustus\\' tolak tunjangan anggota DPR ricuh, Dasco: Tunjangan rumah Rp 50 juta hanya sampai Oktober tahun ini](https://www.bbc.com/indonesia/articles/cr5rj1pv1ppo)\\n\\n- [Polisi tangkap \\'aktor utama\\' kasus dugaan pembunuhan kepala cabang BRI, apa motifnya?](https://www.bbc.com/indonesia/articles/c1mpy5y7p75o)\\n\\n- [Gaji dan\\n-----------------\\nTitle: Rusuh di Pati. Begini Asal Mula dan Legenda Kabupaten Pati\\nURL: https://www.tempo.co/politik/rusuh-di-pati-begini-asal-mula-dan-legenda-kabupaten-pati-2058405\\nContent: Menu\\n\\n[Politik](https://www.tempo.co/politik)\\n\\n[Politik](https://www.tempo.co/politik/politik)\\n\\n[Pendidikan](https://www.tempo.co/politik/pendidikan)\\n\\n[Nusa](https://www.tempo.co/politik/nusa)\\n\\n[Sosial](https://www.tempo.co/politik/sosial)\\n\\n[Difabel](https://www.tempo.co/politik/difabel)\\n\\n[Konflik Aceh dalam Ingatan Anak-anak Muda](https://www.tempo.co/politik/konflik-aceh-20-tahun-perjanjian-helsinki--2059009) [Pemerintah Tutup 31 Ruas Jalan di Jakarta untuk Malam Perayaan HUT ke-80 RI](https://www.tempo.co/politik/pemerintah-tutup-31-ruas-jalan-di-jakarta-untuk-malam-perayaan-hut-ke-80-ri-2059184) [Begini Alasan Megawati Tak Hadir di Sidang Tahunan MPR 2025](https://www.tempo.co/politik/begini-alasan-megawati-tak-hadir-di-sidang-tahunan-mpr-2025-2059181) [Aliansi Keterbukaan Sejarah Desak Pemerintah Cabut Penulisan Ulang Sejarah](https://www.tempo.co/politik/-aliansi-keterbukaan-sejarah-desak-pemerintah-cabut-penulisan-ulang-sejarah-2059178)\\n\\nNusa\\n\\n# Rusuh di Pati. Begini Asal Mula dan Legenda Kabupaten Pati\\n\\nAksi unjuk rasa warga meminta Bupati Pati Sudewo mundur. Ini legenda Kabupaten Pati berawal dari kisah Dewi Ruyung Wulan dan Dalang Ki Soponyono.\\n\\n13 Agustus 2025 \\\\| 17.25 WIB\\n\\nDengarkan artikel\\n\\nBagikan\\n\\nGabung Tempo Circle\\n\\nPerbesar\\n\\nMassa yang tergabung dalam Aliansi Masyarakat Pati Bersatu berunjuk rasa di depan Kantor Bupati Pati, Kabupaten Pati, Jawa Tengah, 13 Agustus 2025. Unjuk rasa yang dihadiri sekitar 100 ribu warga itu menuntut Bupati Pati Sudewo agar mundur dari jabatannya karena dinilai arogan dan sejumlah kebijakannya tidak pro ke masyarakat. Antara/Aji Styawan\\n\\nBaca berita dengan sedikit iklan, [klik di sini](https://subscribe.tempo.co/tempo-sales-funnel/tempo-sales-funnel-frontend/show?funnel=sedikitiklan)\\n\\nRIBUAN masyarakat Kabupaten [Pati](https://www.tempo.co/tag/pati), Jawa Tengah, berdemonstrasi menuntut Bupati Pati [Sudewo](https://www.tempo.co/tag/sudewo) mengundurkan diri dari jabatannya karena dianggap sebagai pemimpin yang arogan d\\n-----------------\\nTitle: Unjuk rasa Pati 2025 - Wikipedia bahasa Indonesia\\nURL: https://id.wikipedia.org/wiki/Unjuk_rasa_Pati_2025\\nContent: [Lompat ke isi](https://id.wikipedia.org/id.wikipedia.org#bodyContent)\\n\\nDari Wikipedia bahasa Indonesia, ensiklopedia bebas\\n\\n| Unjuk rasa Pati |\\n| --- |\\n| Bagian dari [Unjuk rasa di Indonesia 2025](https://id.wikipedia.org/wiki/Unjuk_rasa_di_Indonesia_2025) |\\n| Spanduk Sudewo yang dirusak dengan teks: \"Preman Arogan, Penipu Rakyat\". |\\n| Tanggal | 10–13 Agustus 2025 |\\n| Lokasi | [Kabupaten Pati](https://id.wikipedia.org/wiki/Kabupaten_Pati), Jawa Tengah, Indonesia |\\n| Sebab | - Usulan kenaikan 250% [pajak bumi](https://id.wikipedia.org/wiki/Pajak_bumi_dan_bangunan) dan [bangunan](https://id.wikipedia.org/wiki/Pajak_properti) (PBB-P2) - Kebijakan Bupati Sudewo yang dianggap tidak merakyat |\\n| Tujuan | - Pembatalan kenaikan pajak PBB-P2 - Pengunduran diri Bupati [Sudewo](https://id.wikipedia.org/wiki/Sudewo) - Penolakan kebijakan sekolah lima hari - Penghentian renovasi Alun-Alun dan pembongkaran masjid - Pembatalan proyek videotron - Perekrutan kembali staf rumah sakit yang diberhentikan |\\n| Metode | [Unjuk rasa](https://id.wikipedia.org/wiki/Unjuk_rasa), [kerusuhan](https://id.wikipedia.org/wiki/Kerusuhan) |\\n| Status | Unjuk rasa dibubarkan; kenaikan pajak dibatalkan; DPRD Pati melancarkan penyidikan hak angket terhadap bupati |\\n| Pihak terlibat |\\n| | | |\\n| --- | --- |\\n| Aliansi Masyarakat Pati Bersatu | [Pemerintah Kabupaten Pati](https://id.wikipedia.org/wiki/Kabupaten_Pati) [Kepolisian Negara Republik Indonesia](https://id.wikipedia.org/wiki/Kepolisian_Negara_Republik_Indonesia) [Tentara Nasional Indonesia](https://id.wikipedia.org/wiki/Tentara_Nasional_Indonesia) | |\\n| Tokoh utama |\\n| | | |\\n| --- | --- |\\n| **Pemimpin unjuk rasa lokal** Supriyono \" [Zoro](https://id.wikipedia.org/wiki/Roronoa_Zoro)\"[\\\\[1\\\\]](https://id.wikipedia.org/id.wikipedia.org#cite_note-sumsel.tribunnews.com-1) Ahmad \" [Luffy](https://id.wikipedia.org/wiki/Monkey_D._Luffy)\" Hussein[\\\\[2\\\\]](https://id.wikipedia.org/id.wikipedia.org#cite_note-ReferenceA-2) | **[Pemerintah](https://id.wikipedia.or\\n-----------------'} }\n",
            "--------------------------------------------------------------------------------\n"
          ]
        },
        {
          "output_type": "display_data",
          "data": {
            "text/plain": [
              "<IPython.core.display.Markdown object>"
            ],
            "text/markdown": "###model:"
          },
          "metadata": {}
        },
        {
          "output_type": "display_data",
          "data": {
            "text/plain": [
              "<IPython.core.display.Markdown object>"
            ],
            "text/markdown": "Penyebab terjadinya demonstrasi di Pati, Jawa Tengah, adalah desakan dari masyarakat agar Bupati Pati, Sudewo, mundur dari jabatannya. Ada beberapa alasan utama di balik tuntutan ini:\n\n1.  **Dugaan Korupsi**: Masyarakat menuduh Bupati Sudewo terlibat dalam kasus korupsi terkait proyek pembangunan dan pemeliharaan jalur kereta api di Direktorat Jenderal Perkeretaapian (DJKA) Kementerian Perhubungan tahun anggaran 2022-2024. Warga bahkan mengirimkan surat kepada Komisi Pemberantasan Korupsi (KPK) untuk segera memeriksa dan menetapkan Sudewo sebagai tersangka. (Sumber: [BBC Indonesia](https://www.bbc.com/indonesia/articles/cx27365z0g2o))\n2.  **Kebijakan yang Tidak Pro-Rakyat dan Sikap Arogan**: Bupati Sudewo dianggap arogan dan mengeluarkan sejumlah kebijakan yang dinilai tidak berpihak kepada masyarakat, antara lain:\n    *   Usulan kenaikan 250% pajak bumi dan bangunan (PBB-P2).\n    *   Penolakan kebijakan sekolah lima hari.\n    *   Penghentian renovasi Alun-Alun dan pembongkaran masjid.\n    *   Pembatalan proyek videotron.\n    *   Tuntutan perekrutan kembali staf rumah sakit yang diberhentikan.\n    (Sumber: [Tempo.co](https://www.tempo.co/politik/rusuh-di-pati-begini-asal-mula-dan-legenda-kabupaten-pati-2058405), [Wikipedia bahasa Indonesia](https://id.wikipedia.org/wiki/Unjuk_rasa_Pati_2025))\n\nDemonstrasi ini bertujuan untuk membatalkan kenaikan pajak PBB-P2 dan menuntut pengunduran diri Bupati Sudewo."
          },
          "metadata": {}
        },
        {
          "output_type": "stream",
          "name": "stdout",
          "text": [
            "--------------------------------------------------------------------------------\n"
          ]
        }
      ]
    },
    {
      "cell_type": "code",
      "source": [],
      "metadata": {
        "id": "8lpRAR_qhUJu"
      },
      "execution_count": null,
      "outputs": []
    }
  ]
}