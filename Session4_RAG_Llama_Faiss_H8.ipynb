{
  "nbformat": 4,
  "nbformat_minor": 0,
  "metadata": {
    "colab": {
      "provenance": [],
      "collapsed_sections": [
        "LO_U41Zgf2A3",
        "tPhbvlOXg_Y7",
        "blFwkLK5iFM9"
      ],
      "include_colab_link": true
    },
    "kernelspec": {
      "name": "python3",
      "display_name": "Python 3"
    },
    "language_info": {
      "name": "python"
    }
  },
  "cells": [
    {
      "cell_type": "markdown",
      "metadata": {
        "id": "view-in-github",
        "colab_type": "text"
      },
      "source": [
        "<a href=\"https://colab.research.google.com/github/shadeq2022/LLM-Based-Tools-and-Gemini-API-Integration-for-Data-Scientists-Partnership-H8/blob/main/Session4_RAG_Llama_Faiss_H8.ipynb\" target=\"_parent\"><img src=\"https://colab.research.google.com/assets/colab-badge.svg\" alt=\"Open In Colab\"/></a>"
      ]
    },
    {
      "cell_type": "code",
      "source": [
        "!pip install -qU langchain-community faiss-cpu langchain-google-genai PyMuPDF langchain-groq langgraph"
      ],
      "metadata": {
        "id": "WjN4TrDdXqBw",
        "colab": {
          "base_uri": "https://localhost:8080/"
        },
        "outputId": "bd8088d0-7d7c-4bd1-f1ba-40e94da09312"
      },
      "execution_count": null,
      "outputs": [
        {
          "output_type": "stream",
          "name": "stdout",
          "text": [
            "\u001b[2K     \u001b[90m━━━━━━━━━━━━━━━━━━━━━━━━━━━━━━━━━━━━━━━━\u001b[0m \u001b[32m43.7/43.7 kB\u001b[0m \u001b[31m2.0 MB/s\u001b[0m eta \u001b[36m0:00:00\u001b[0m\n",
            "\u001b[2K   \u001b[90m━━━━━━━━━━━━━━━━━━━━━━━━━━━━━━━━━━━━━━━━\u001b[0m \u001b[32m2.5/2.5 MB\u001b[0m \u001b[31m25.1 MB/s\u001b[0m eta \u001b[36m0:00:00\u001b[0m\n",
            "\u001b[2K   \u001b[90m━━━━━━━━━━━━━━━━━━━━━━━━━━━━━━━━━━━━━━━━\u001b[0m \u001b[32m31.4/31.4 MB\u001b[0m \u001b[31m15.5 MB/s\u001b[0m eta \u001b[36m0:00:00\u001b[0m\n",
            "\u001b[2K   \u001b[90m━━━━━━━━━━━━━━━━━━━━━━━━━━━━━━━━━━━━━━━━\u001b[0m \u001b[32m50.7/50.7 kB\u001b[0m \u001b[31m2.4 MB/s\u001b[0m eta \u001b[36m0:00:00\u001b[0m\n",
            "\u001b[2K   \u001b[90m━━━━━━━━━━━━━━━━━━━━━━━━━━━━━━━━━━━━━━━━\u001b[0m \u001b[32m24.1/24.1 MB\u001b[0m \u001b[31m28.8 MB/s\u001b[0m eta \u001b[36m0:00:00\u001b[0m\n",
            "\u001b[2K   \u001b[90m━━━━━━━━━━━━━━━━━━━━━━━━━━━━━━━━━━━━━━━━\u001b[0m \u001b[32m153.3/153.3 kB\u001b[0m \u001b[31m5.7 MB/s\u001b[0m eta \u001b[36m0:00:00\u001b[0m\n",
            "\u001b[2K   \u001b[90m━━━━━━━━━━━━━━━━━━━━━━━━━━━━━━━━━━━━━━━━\u001b[0m \u001b[32m1.4/1.4 MB\u001b[0m \u001b[31m41.9 MB/s\u001b[0m eta \u001b[36m0:00:00\u001b[0m\n",
            "\u001b[2K   \u001b[90m━━━━━━━━━━━━━━━━━━━━━━━━━━━━━━━━━━━━━━━━\u001b[0m \u001b[32m134.9/134.9 kB\u001b[0m \u001b[31m6.2 MB/s\u001b[0m eta \u001b[36m0:00:00\u001b[0m\n",
            "\u001b[2K   \u001b[90m━━━━━━━━━━━━━━━━━━━━━━━━━━━━━━━━━━━━━━━━\u001b[0m \u001b[32m43.9/43.9 kB\u001b[0m \u001b[31m2.1 MB/s\u001b[0m eta \u001b[36m0:00:00\u001b[0m\n",
            "\u001b[2K   \u001b[90m━━━━━━━━━━━━━━━━━━━━━━━━━━━━━━━━━━━━━━━━\u001b[0m \u001b[32m55.0/55.0 kB\u001b[0m \u001b[31m2.6 MB/s\u001b[0m eta \u001b[36m0:00:00\u001b[0m\n",
            "\u001b[2K   \u001b[90m━━━━━━━━━━━━━━━━━━━━━━━━━━━━━━━━━━━━━━━━\u001b[0m \u001b[32m64.7/64.7 kB\u001b[0m \u001b[31m4.5 MB/s\u001b[0m eta \u001b[36m0:00:00\u001b[0m\n",
            "\u001b[2K   \u001b[90m━━━━━━━━━━━━━━━━━━━━━━━━━━━━━━━━━━━━━━━━\u001b[0m \u001b[32m50.9/50.9 kB\u001b[0m \u001b[31m3.9 MB/s\u001b[0m eta \u001b[36m0:00:00\u001b[0m\n",
            "\u001b[2K   \u001b[90m━━━━━━━━━━━━━━━━━━━━━━━━━━━━━━━━━━━━━━━━\u001b[0m \u001b[32m216.7/216.7 kB\u001b[0m \u001b[31m10.6 MB/s\u001b[0m eta \u001b[36m0:00:00\u001b[0m\n",
            "\u001b[?25h\u001b[31mERROR: pip's dependency resolver does not currently take into account all the packages that are installed. This behaviour is the source of the following dependency conflicts.\n",
            "google-colab 1.0.0 requires requests==2.32.4, but you have requests 2.32.5 which is incompatible.\n",
            "google-generativeai 0.8.5 requires google-ai-generativelanguage==0.6.15, but you have google-ai-generativelanguage 0.7.0 which is incompatible.\u001b[0m\u001b[31m\n",
            "\u001b[0m"
          ]
        }
      ]
    },
    {
      "cell_type": "markdown",
      "source": [
        "# Vector Database with Faiss"
      ],
      "metadata": {
        "id": "fJm1svW1X0DH"
      }
    },
    {
      "cell_type": "code",
      "execution_count": null,
      "metadata": {
        "id": "DHrXY1NHQAiI"
      },
      "outputs": [],
      "source": [
        "from langchain_google_genai import GoogleGenerativeAIEmbeddings\n",
        "import os\n",
        "\n",
        "from google.colab import userdata\n",
        "# masukan API key kalian\n",
        "api_key= userdata.get('GEMINI')\n",
        "\n",
        "embedding_model = GoogleGenerativeAIEmbeddings(google_api_key=api_key, model=\"models/gemini-embedding-exp-03-07\")"
      ]
    },
    {
      "cell_type": "code",
      "source": [
        "import faiss\n",
        "from langchain_community.docstore.in_memory import InMemoryDocstore\n",
        "from langchain_community.vectorstores import FAISS\n",
        "\n",
        "index = faiss.IndexFlatL2(len(embedding_model.embed_query(\"hello world\"))) #untuk mendapatkan length vectornya\n",
        "\n",
        "# initiate Faiss VectorDB\n",
        "vector_store = FAISS(\n",
        "    embedding_function=embedding_model,\n",
        "    index=index,\n",
        "    docstore=InMemoryDocstore(),\n",
        "    index_to_docstore_id={},\n",
        ")"
      ],
      "metadata": {
        "id": "LEEh80NMX4bf"
      },
      "execution_count": null,
      "outputs": []
    },
    {
      "cell_type": "code",
      "source": [
        "# store document to the vector database\n",
        "\n",
        "from uuid import uuid4\n",
        "\n",
        "from langchain_core.documents import Document\n",
        "\n",
        "document_1 = Document(\n",
        "    page_content=\"I had chocalate chip pancakes and scrambled eggs for breakfast this morning.\",\n",
        "    metadata={\"source\": \"tweet\"},\n",
        ")\n",
        "\n",
        "document_2 = Document(\n",
        "    page_content=\"The weather forecast for tomorrow is cloudy and overcast, with a high of 62 degrees.\",\n",
        "    metadata={\"source\": \"news\"},\n",
        ")\n",
        "\n",
        "document_3 = Document(\n",
        "    page_content=\"Building an exciting new project with LangChain - come check it out!\",\n",
        "    metadata={\"source\": \"tweet\"},\n",
        ")\n",
        "\n",
        "document_4 = Document(\n",
        "    page_content=\"Robbers broke into the city bank and stole $1 million in cash.\",\n",
        "    metadata={\"source\": \"news\"},\n",
        ")\n",
        "\n",
        "document_5 = Document(\n",
        "    page_content=\"Wow! That was an amazing movie. I can't wait to see it again.\",\n",
        "    metadata={\"source\": \"tweet\"},\n",
        ")\n",
        "\n",
        "document_6 = Document(\n",
        "    page_content=\"Is the new iPhone worth the price? Read this review to find out.\",\n",
        "    metadata={\"source\": \"website\"},\n",
        ")\n",
        "\n",
        "document_7 = Document(\n",
        "    page_content=\"The top 10 soccer players in the world right now.\",\n",
        "    metadata={\"source\": \"website\"},\n",
        ")\n",
        "\n",
        "document_8 = Document(\n",
        "    page_content=\"LangGraph is the best framework for building stateful, agentic applications!\",\n",
        "    metadata={\"source\": \"tweet\"},\n",
        ")\n",
        "\n",
        "document_9 = Document(\n",
        "    page_content=\"The stock market is down 500 points today due to fears of a recession.\",\n",
        "    metadata={\"source\": \"news\"},\n",
        ")\n",
        "\n",
        "document_10 = Document(\n",
        "    page_content=\"I have a bad feeling I am going to get deleted :(\",\n",
        "    metadata={\"source\": \"tweet\"},\n",
        ")\n",
        "\n",
        "documents = [\n",
        "    document_1,\n",
        "    document_2,\n",
        "    document_3,\n",
        "    document_4,\n",
        "    document_5,\n",
        "    document_6,\n",
        "    document_7,\n",
        "    document_8,\n",
        "    document_9,\n",
        "    document_10,\n",
        "]\n",
        "uuids = [str(uuid4()) for _ in range(len(documents))]\n",
        "\n",
        "vector_store.add_documents(documents=documents, ids=uuids)"
      ],
      "metadata": {
        "colab": {
          "base_uri": "https://localhost:8080/"
        },
        "id": "GWGb06gAYLBm",
        "outputId": "60f90100-fcbd-4a2d-bb4b-f114b881b532"
      },
      "execution_count": null,
      "outputs": [
        {
          "output_type": "execute_result",
          "data": {
            "text/plain": [
              "['836de70a-cac9-40ea-8612-3ac3f0982856',\n",
              " '610f3a91-1ea2-4d49-a745-567b2a355e29',\n",
              " 'ddbc928e-50e2-4a64-b1e1-429d7ca0feaa',\n",
              " 'aa19d96a-4db1-49a0-b8c0-5e9fdb1e9b03',\n",
              " '71e86ca2-5f5a-467c-91f7-858a058b48e3',\n",
              " '3d4fd888-5044-40b3-bfa0-cd1bfce9d24a',\n",
              " 'b4f2dc37-ef54-4e81-9f61-454a624f88b8',\n",
              " 'f1770e86-10ec-420c-87a3-62a2c99ccc52',\n",
              " 'd325d81d-7cd6-4dd5-a2de-3a70bc379ac6',\n",
              " 'bb7ae466-de6a-441a-9de1-36cf4046136f']"
            ]
          },
          "metadata": {},
          "execution_count": 4
        }
      ]
    },
    {
      "cell_type": "markdown",
      "source": [
        "## Melakukan pencarian di FaissDB\n",
        "\n",
        "Operator yang didukung untuk melakukan filtering adalah sebagai berikut:\n",
        "\n",
        "- $eq (equals)\n",
        "\n",
        "- $neq (not equals)\n",
        "\n",
        "- $gt (greater than)\n",
        "\n",
        "- $lt (less than)\n",
        "\n",
        "- $gte (greater than or equal)\n",
        "\n",
        "- $lte (less than or equal)\n",
        "\n",
        "- $in (membership in list)\n",
        "\n",
        "- $nin (not in list)\n",
        "\n",
        "- $and (all conditions must match)\n",
        "\n",
        "- $or (any condition must match)\n",
        "\n",
        "- $not (negation of condition)"
      ],
      "metadata": {
        "id": "xzEWf64mbmuD"
      }
    },
    {
      "cell_type": "code",
      "source": [
        "results = vector_store.similarity_search(\n",
        "    \"LangChain provides abstractions to make working with LLMs easy\",\n",
        "    k=2,\n",
        "    filter={\"source\": {\"$eq\": \"tweet\"}},\n",
        ")\n",
        "for res in results:\n",
        "    print(f\"* {res.page_content} [{res.metadata}]\")"
      ],
      "metadata": {
        "colab": {
          "base_uri": "https://localhost:8080/"
        },
        "id": "o7SQg0w-by2h",
        "outputId": "ae9bf8a5-7d72-4b0b-98f6-837d3798da31"
      },
      "execution_count": null,
      "outputs": [
        {
          "output_type": "stream",
          "name": "stdout",
          "text": [
            "* Building an exciting new project with LangChain - come check it out! [{'source': 'tweet'}]\n",
            "* LangGraph is the best framework for building stateful, agentic applications! [{'source': 'tweet'}]\n"
          ]
        }
      ]
    },
    {
      "cell_type": "code",
      "source": [
        "results = vector_store.similarity_search(\n",
        "    \"The new iPhone\",\n",
        "    k=2,\n",
        ")\n",
        "for res in results:\n",
        "    print(f\"* {res.page_content} [{res.metadata}]\")"
      ],
      "metadata": {
        "colab": {
          "base_uri": "https://localhost:8080/"
        },
        "id": "IawzHExwbzoA",
        "outputId": "a6103f8c-be4b-494b-b90f-a5150a5a3d7e"
      },
      "execution_count": null,
      "outputs": [
        {
          "output_type": "stream",
          "name": "stdout",
          "text": [
            "* Is the new iPhone worth the price? Read this review to find out. [{'source': 'website'}]\n",
            "* The top 10 soccer players in the world right now. [{'source': 'website'}]\n"
          ]
        }
      ]
    },
    {
      "cell_type": "markdown",
      "source": [
        "## Save the DB\n"
      ],
      "metadata": {
        "id": "dnLUB4xRcWxa"
      }
    },
    {
      "cell_type": "code",
      "source": [
        "vector_store.save_local(\"faiss_index\")"
      ],
      "metadata": {
        "id": "W6LPoa8EccVq"
      },
      "execution_count": null,
      "outputs": []
    },
    {
      "cell_type": "markdown",
      "source": [
        "## Load the DB"
      ],
      "metadata": {
        "id": "51tw49oXcgfQ"
      }
    },
    {
      "cell_type": "code",
      "source": [
        "new_vector_store = FAISS.load_local(\n",
        "    \"faiss_index\", embedding_model, allow_dangerous_deserialization=True\n",
        ")\n",
        "\n",
        "docs = new_vector_store.similarity_search(\"qux\")"
      ],
      "metadata": {
        "id": "Pb19I6uAcf5N"
      },
      "execution_count": null,
      "outputs": []
    },
    {
      "cell_type": "code",
      "source": [
        "for res in docs:\n",
        "    print(f\"* {res.page_content} [{res.metadata}]\")"
      ],
      "metadata": {
        "colab": {
          "base_uri": "https://localhost:8080/"
        },
        "id": "y0nb6Y97cug1",
        "outputId": "ac2f8eae-9969-4943-f8d4-297c6650526d"
      },
      "execution_count": null,
      "outputs": [
        {
          "output_type": "stream",
          "name": "stdout",
          "text": [
            "* I have a bad feeling I am going to get deleted :( [{'source': 'tweet'}]\n",
            "* Building an exciting new project with LangChain - come check it out! [{'source': 'tweet'}]\n",
            "* LangGraph is the best framework for building stateful, agentic applications! [{'source': 'tweet'}]\n",
            "* I had chocalate chip pancakes and scrambled eggs for breakfast this morning. [{'source': 'tweet'}]\n"
          ]
        }
      ]
    },
    {
      "cell_type": "markdown",
      "source": [
        "# RAG dengan LangChain"
      ],
      "metadata": {
        "id": "-J5wRk0oc4eL"
      }
    },
    {
      "cell_type": "code",
      "source": [
        "from langchain.text_splitter import CharacterTextSplitter\n",
        "from langchain_core.documents import Document\n",
        "import fitz\n"
      ],
      "metadata": {
        "id": "Zoziix8UeP-J"
      },
      "execution_count": null,
      "outputs": []
    },
    {
      "cell_type": "markdown",
      "source": [
        "### Langkah 1: Extract document dan chunk dokumen\n",
        "Chunk ini dilakukan untuk mengubah dokumen yang panjang menjadi bagian bagian kecil sehingga text yang diterima LLM lebih sedikit. Tujuannya adalah karena adanya batasan token yang diberikan oleh LLM, selain itu semakin panjang text yang diterima oleh LLM semakin lama pula respons yang diberikan oleh LLM."
      ],
      "metadata": {
        "id": "LO_U41Zgf2A3"
      }
    },
    {
      "cell_type": "code",
      "source": [
        "def extract_text_from_pdf(pdf_path):\n",
        "    \"\"\"Mengekstrak teks dari PDF\"\"\"\n",
        "    doc = fitz.open(pdf_path)\n",
        "    text = \"\\n\".join([page.get_text() for page in doc])\n",
        "    return text\n",
        "\n",
        "pdf_text = extract_text_from_pdf(\"/content/Jurnal Shadeq.pdf\")"
      ],
      "metadata": {
        "id": "DJmiMIQQc6Ih"
      },
      "execution_count": null,
      "outputs": []
    },
    {
      "cell_type": "code",
      "source": [
        "document = Document(\n",
        "    page_content=pdf_text\n",
        ")"
      ],
      "metadata": {
        "id": "YELF5ywbe-Hc"
      },
      "execution_count": null,
      "outputs": []
    },
    {
      "cell_type": "code",
      "source": [
        "splitter = CharacterTextSplitter(\n",
        "    separator=\"\\n\",\n",
        "    chunk_size=1000,\n",
        "    chunk_overlap=200\n",
        ")\n",
        "\n",
        "chunks = splitter.split_text(pdf_text) #you can also split documents using split_documents"
      ],
      "metadata": {
        "id": "XvqF0UkPd7kd"
      },
      "execution_count": null,
      "outputs": []
    },
    {
      "cell_type": "code",
      "source": [
        "# hasil chunk document\n",
        "\n",
        "[chunk[:100] + '...' for chunk in chunks]"
      ],
      "metadata": {
        "id": "A0R-QUjReTpW",
        "colab": {
          "base_uri": "https://localhost:8080/"
        },
        "outputId": "c1404cd7-b2da-4a76-9a8e-9681a2878930"
      },
      "execution_count": null,
      "outputs": [
        {
          "output_type": "execute_result",
          "data": {
            "text/plain": [
              "['CHIPSET - VOL. XX NO. XX (2017) XXX-XXX \\n \\n \\nAvailable online at : http://chipset.fti.unand.ac.id/ \\n...',\n",
              " 'Poor sleep can harm physical and mental health. Sleep apnea, often signaled by snoring and low \\nbloo...',\n",
              " 'precision of 0.806, recall of 0.805, and an F1-score of 0.794. The microphone effectively \\ndetected ...',\n",
              " 'disorders is Obstructive Sleep Apnea (OSA), a condition where \\nthe upper airway is repeatedly blocke...',\n",
              " 'Snoring, caused by the vibration of soft tissues in the upper \\nairway, is a primary indicator of OSA...',\n",
              " 'wearable devices, such as the Galaxy Watch, can monitor SpO2 \\nand detect snoring but lack a real-tim...',\n",
              " 'FIRST AUTHOR / CHIPSET - VOL. XX NO. XX (2017) XXX-XXX \\nMuhammad Shadeq \\n \\nhttps://doi.org/10.25077/...',\n",
              " 'sleep position, to prevent more serious health risks. \\nMETHOD \\nThe proposed solution is a wearable e...',\n",
              " 'Seeedstudio XIAO nRF52840 microcontroller (a) with its \\nintegrated PDM microphone (a.1) for capturin...',\n",
              " 'fingertip. \\n \\n \\nFigure 4. Hardware Design \\n \\nFigure 4 illustrates the interconnection of the hardwar...',\n",
              " 'initialization of the nRF52840, ESP32C3, microphone, and \\nMAX30102 sensor to ensure the system is re...',\n",
              " 'neural network model classifies the presence of snoring. The \\ndetection result is then transmitted f...',\n",
              " 'Overview of dataset are in Table 1. \\nTable 1. Dataset Overview \\nSpesification \\nDescription \\nSource D...',\n",
              " 'layer converts the extracted features into a one-dimensional \\nvector, which is then fed into a Dense...',\n",
              " 'ESP32-C3 to the Android application, allowing users to monitor \\ntheir SpO2 logs as well as snoring d...',\n",
              " 'upper side device 1. It is implemented on a PCB whose \\ncomponents consist of the XIAO nRF52840 Sense...',\n",
              " 'levels are low, while the vibration motor provides a warning when \\nsnoring is detected. Information ...',\n",
              " 'or accept new code. Therefore, the motor and buzzer were \\nreassigned to GPIO3 and GPIO10. \\nSoftware ...',\n",
              " 'total duration of 25 minutes and 3 seconds. These files were \\nsourced from Google AudioSet [24] and ...',\n",
              " 'second segments. As shown in Figure 11, the impulse design \\nstage consisted of three main blocks: (a...',\n",
              " 'FIRST AUTHOR / CHIPSET - VOL. XX NO. XX (2017) XXX-XXX \\nhttps://doi.org/10.25077/xxxxx  \\n \\nMuhammad ...',\n",
              " '0.005), conv1_filters (16, 32), and dropout rate (0.1–0.5). A \\nsecond sweep of 50 runs (2 hours) was...',\n",
              " 'and validation accuracy stabilized above 95% while loss \\nconsistently decreased, showing that the mo...',\n",
              " 'date, and icons to stop or edit a session. Below, a card displays \\nsession duration, average SpO2, m...',\n",
              " 'Muhammad Shadeq \\n \\nhttps://doi.org/10.25077/xxxxx  \\n6\\n \\nTesting and Analysis \\nThis system testing ph...',\n",
              " '20:52:45.555 \\n84 \\n14 \\n4 \\n20:52:46.948 \\n83 \\n14 \\n5 \\n20:52:48.368 \\n84 \\n14 \\n6 \\n20:52:49.754 \\n83 \\n14 \\n7 \\n...',\n",
              " 'capability is influenced by both distance and sound intensity. At \\nhigh intensity (50.6 dB), snoring...',\n",
              " 'Percentage \\n(%) \\nPulse \\nOximetry \\n(%) \\nSensor \\nMAX30102 \\n(%) \\n1 \\n97 \\n96,1 \\n0,7 \\n0,4725 \\n99,07 \\n2 \\n97...',\n",
              " 'obtained using (1) \\n𝐴𝑐𝑐𝑢𝑟𝑎𝑐𝑦 = (1 −|𝐴𝑐𝑡𝑢𝑎𝑙𝐷𝑎𝑡𝑎 − 𝑆𝑒𝑛𝑠𝑜𝑟𝐷𝑎𝑡𝑎\\n𝐴𝑐𝑡𝑢𝑎𝑙𝐷𝑎𝑡𝑎\\n|) 100% \\n(1) \\n \\nA comparison ...',\n",
              " 'Table 6. Test Results for RSSI and Packet Loss of BLE Seeed \\nStudio XIAO nRF52840 \\nNo. \\nJarak \\n(m) \\n...',\n",
              " 'This test evaluated the Bluetooth Low Energy (BLE) connectivity \\nbetween the ESP32C3 transmitter and...',\n",
              " 'Distance (m) \\nAverage Data Reception Interval (ms) \\n0,2 \\n1417,48 \\n0,5 \\n1459,43 \\n1 \\n1435,41 \\n2 \\n1404,...',\n",
              " 'with different sleeping scenarios. The microphone was placed 50 \\ncm from the user and the smartphone...',\n",
              " 'by device placement and obstacles between them.  \\nBuzzer Testing \\nTable 9. Results of Buzzer Testing...',\n",
              " 'Battery testing was conducted to evaluate the system’s primary \\npower performance, aiming to ensure ...',\n",
              " 'microcontroller. The upload process utilized approximately 86% \\nof the available memory, correspondi...',\n",
              " '0.793 \\n0.778 \\n0.800 \\n \\nWeighted \\nAvg \\n \\nP:0.806 \\nR:0.805 \\nf1:0.794 \\n \\nThe model testing aimed to eva...',\n",
              " 'sounds misclassified as silence, but recall remained high (23 of \\n25 correctly detected). Siren perf...',\n",
              " 'finger is placed. During stabilization, the OLED begins showing \\nSpO2 values (starting at 80%) while...',\n",
              " 'To evaluate its real-world performance, the system was tested on \\nsubjects during overnight sleep se...',\n",
              " '23. \\n \\nFigure 23. Illustration of device placement for third-subject \\ntesting \\n \\nNext, an analysis w...',\n",
              " 'Sirene \\n0 \\n0 \\n0 \\n0 \\n0 \\n0 \\n0 \\nsnoring \\n4 \\n7 \\n9 \\n10 \\n14 \\n172 \\n216 \\n \\nprecision \\n0.934 \\n0.408 \\n0.000 \\n0...',\n",
              " '(0.408) and recall (0.461), while Rain and Siren classes scored \\nzero as these events did not occur ...',\n",
              " 'accuracy (99.06%), while the snoring detection model achieved \\nan accuracy of 80.5%. The PDM Microph...',\n",
              " '[2] \\nD. Maulidya Mirwan and E. Margo, “Hubungan saturasi \\noksigen dengan risiko terjadinya obstructi...',\n",
              " 'N. Maimon and P. J. Hanly, “Does Snoring Intensity \\nCorrelate with the Severity of Obstructive Sleep...',\n",
              " '90402/ \\n[10] \\nAnonymous, “Tracks Blood O2 Saturation Level & \\nCPAP Effectiveness,” LOOKEETech. Acces...',\n",
              " '2.0.” \\n[16] \\nSolomon Systech Limited, “SSD1306,” 2008. \\n[17] \\nVybronics, “C1026B002F,” 2020. \\n[18] \\n...',\n",
              " 'Available: https://arxiv.org/abs/1905.03554 \\n[23] \\nElektro Automatik, “White Paper: Ensure Protected...',\n",
              " 'University. His interests are artificial intelligence \\nand embedded \\n \\nNefy Puteri Novani, M.T \\nBorn...']"
            ]
          },
          "metadata": {},
          "execution_count": 47
        }
      ]
    },
    {
      "cell_type": "markdown",
      "source": [
        "### Langkah 2: Upload Chunked Documents ke Database"
      ],
      "metadata": {
        "id": "tPhbvlOXg_Y7"
      }
    },
    {
      "cell_type": "code",
      "source": [
        "# inisialisasi faissdb\n",
        "\n",
        "index = faiss.IndexFlatL2(len(embedding_model.embed_query(\"hello world\"))) #untuk mendapatkan length vectornya\n",
        "\n",
        "# initiate Faiss VectorDB\n",
        "vector_store = FAISS(\n",
        "    embedding_function=embedding_model,\n",
        "    index=index,\n",
        "    docstore=InMemoryDocstore(),\n",
        "    index_to_docstore_id={},\n",
        ")"
      ],
      "metadata": {
        "id": "uiR20cm7fnB3"
      },
      "execution_count": null,
      "outputs": []
    },
    {
      "cell_type": "code",
      "source": [
        "documents = [Document(page_content=chunk) for chunk in chunks]"
      ],
      "metadata": {
        "id": "IlwxDfR4hIeo"
      },
      "execution_count": null,
      "outputs": []
    },
    {
      "cell_type": "code",
      "source": [
        "uuids = [str(uuid4()) for _ in range(len(documents))]\n",
        "\n",
        "vector_store.add_documents(documents=documents, ids=uuids)"
      ],
      "metadata": {
        "id": "XtOGarqThQWf",
        "colab": {
          "base_uri": "https://localhost:8080/"
        },
        "outputId": "cb410ffe-48d4-4533-97e3-e1916a147f3f"
      },
      "execution_count": null,
      "outputs": [
        {
          "output_type": "execute_result",
          "data": {
            "text/plain": [
              "['04a93c52-d630-4b63-a6cc-c752faa583b8',\n",
              " '80ad1e2e-1147-431e-a6f5-eaff80ad75e4',\n",
              " 'ea9a6b1d-b7e5-4eba-8cfc-dacbd0bc76ba',\n",
              " 'be8ff216-9000-475c-8e2d-0bb2fb63d546',\n",
              " '3a2c90c0-dd3e-4ed9-9d74-ce06f17c76c4',\n",
              " '466a97a3-5405-4957-abf9-a4a273583efa',\n",
              " '989eb249-3b3a-4998-8c29-63a0edb7124b',\n",
              " 'db969dd1-651f-438e-8b43-888210fa8a9f',\n",
              " 'e94a8667-2641-4fbd-9eb9-159a6c38a89d',\n",
              " '17401e4b-ba11-4c9f-a046-9baf22d1f3e2',\n",
              " '849d3d17-478c-438d-92c5-0fb13e79693f',\n",
              " '5e6db608-acd4-4362-a465-0883ca875e08',\n",
              " '9e253b37-4686-4f43-bc76-67f4907737fb',\n",
              " '8b3068ca-6453-488a-b6aa-08e29e9f0deb',\n",
              " 'aac7df84-e768-4fad-8110-4a6b32773370',\n",
              " 'c32b61bb-dd09-4874-b4b7-33006bb47a15',\n",
              " '0c86559c-4799-4ea7-8214-63b27189553b',\n",
              " 'b33d6ca8-1abf-4767-9d30-e762f532c266',\n",
              " '25e55a24-f502-4a91-b12e-281ae22be2a6',\n",
              " '71ce275e-c082-4a9b-9259-62c6b1e777f2',\n",
              " '3f5d0d1b-3cae-41ac-842d-fbdbdde75567',\n",
              " '2d6ad41a-50fb-4aaa-845f-de35ae92c293',\n",
              " 'a07b427f-6c54-47b2-a4af-8a3ce4d7c7c9',\n",
              " 'a67f9b40-7d93-4086-ac5d-930c41792629',\n",
              " 'e0b36c9c-096b-4be7-9fe7-c69885fc9b49',\n",
              " '55cb6dfe-8d80-4a1f-a448-f1c343f1f598',\n",
              " '9977a827-b760-403f-aad6-a89f65e26dd7',\n",
              " '835d2114-8f31-46f3-92b0-dbac800c3fe2',\n",
              " 'ec9c58eb-9eac-4ca3-ab9e-6660429ba475',\n",
              " 'dee231a5-bf48-49e5-a6fb-4c5df39829be',\n",
              " '8ba52fd1-bcf8-4907-aa17-6fc11142c73e',\n",
              " '4697dbfc-590e-446b-a585-2429ffa70d19',\n",
              " '6192197f-eb8a-4a8d-b288-48fbafc2a2ac',\n",
              " '059f26af-a4bc-4af6-abd3-9f9d940633a2',\n",
              " '06ccc97d-276f-4b0c-be9a-7eced40140c8',\n",
              " 'f140da81-45bc-4c02-a168-d3ade20c3ef0',\n",
              " '750e8117-083f-48b9-b96b-e3686402e33d',\n",
              " '21ba4ebc-940c-4735-9464-c102b6f7f60f',\n",
              " '50576289-2492-45fa-9034-a461af08c6c1',\n",
              " 'ae44718c-c865-4a9c-9e77-581ebd61a9c5',\n",
              " '77757179-8286-48aa-ace3-699d0933275e',\n",
              " '33a0998a-d43b-426d-9007-f9dd2bd01265',\n",
              " 'e47f731c-4255-4f8b-84dc-5b076c5c2af5',\n",
              " '318d64ca-75d1-4e36-ab13-2c917032496f',\n",
              " 'd74b06a3-f771-4971-bb61-f062d368d868',\n",
              " '98f858c0-6502-4fda-9f71-639b9d613e37',\n",
              " '1c22e522-85b4-41c0-b138-9dcca42494b1',\n",
              " '5ec32ec6-7fdf-4d43-86d4-25089d1e208f',\n",
              " '79cded29-79bf-4f31-abf6-311d3c9b26ee',\n",
              " 'c6424976-4fab-408f-a4e8-fe8ce36c1112']"
            ]
          },
          "metadata": {},
          "execution_count": 50
        }
      ]
    },
    {
      "cell_type": "code",
      "source": [
        "vector_store.save_local(\"faiss_index\")"
      ],
      "metadata": {
        "id": "8F_HW03Yh_VR"
      },
      "execution_count": null,
      "outputs": []
    },
    {
      "cell_type": "markdown",
      "source": [
        "### Langkah 3: Develop RAG"
      ],
      "metadata": {
        "id": "blFwkLK5iFM9"
      }
    },
    {
      "cell_type": "code",
      "source": [
        "# Initialize State\n",
        "\n",
        "from langchain_core.documents import Document\n",
        "from typing_extensions import List, TypedDict\n",
        "from langchain_groq import ChatGroq\n",
        "\n",
        "\n",
        "class State(TypedDict):\n",
        "    question: str\n",
        "    context: List[Document]\n",
        "    answer: str"
      ],
      "metadata": {
        "id": "Xd0kNzdQiDxJ"
      },
      "execution_count": null,
      "outputs": []
    },
    {
      "cell_type": "code",
      "source": [
        "#initialize prompt\n",
        "\n",
        "from langchain import hub\n",
        "\n",
        "prompt = hub.pull(\"rlm/rag-prompt\")\n",
        "\n",
        "example_messages = prompt.invoke(\n",
        "    {\"context\": \"(context goes here)\", \"question\": \"(question goes here)\"}\n",
        ").to_messages()\n",
        "\n",
        "assert len(example_messages) == 1\n",
        "print(example_messages[0].content)"
      ],
      "metadata": {
        "id": "7XfiYcbclCJp",
        "colab": {
          "base_uri": "https://localhost:8080/"
        },
        "outputId": "f6c543d0-2cdc-454a-8097-900d790ac989"
      },
      "execution_count": null,
      "outputs": [
        {
          "output_type": "stream",
          "name": "stdout",
          "text": [
            "You are an assistant for question-answering tasks. Use the following pieces of retrieved context to answer the question. If you don't know the answer, just say that you don't know. Use three sentences maximum and keep the answer concise.\n",
            "Question: (question goes here) \n",
            "Context: (context goes here) \n",
            "Answer:\n"
          ]
        }
      ]
    },
    {
      "cell_type": "code",
      "source": [
        "api_key= userdata.get('GROK')\n",
        "\n",
        "# Set API Key ke variable lingkungan yang dibutuhkan\n",
        "os.environ[\"GROQ_API_KEY\"] = api_key\n",
        "\n",
        "MODEL = 'llama-3.3-70b-versatile'\n",
        "\n",
        "llm = ChatGroq(\n",
        "    temperature=0,\n",
        "    model_name=MODEL\n",
        ") # kamu bisa mengganti model menjadi gemini atau LLM lainnya"
      ],
      "metadata": {
        "id": "_l_CdtifkenD"
      },
      "execution_count": null,
      "outputs": []
    },
    {
      "cell_type": "code",
      "source": [
        "# buat logic untuk mengambil informasi dari faissdb dan men-generate jawaban\n",
        "\n",
        "def retrieve(state: State):\n",
        "    retrieved_docs = vector_store.similarity_search(state[\"question\"])\n",
        "    return {\"context\": retrieved_docs}\n",
        "\n",
        "\n",
        "def generate(state: State):\n",
        "    docs_content = \"\\n\\n\".join(doc.page_content for doc in state[\"context\"])\n",
        "    messages = prompt.invoke({\"question\": state[\"question\"], \"context\": docs_content})\n",
        "    response = llm.invoke(messages)\n",
        "    return {\"answer\": response.content}"
      ],
      "metadata": {
        "id": "BUqWQ_sziYax"
      },
      "execution_count": null,
      "outputs": []
    },
    {
      "cell_type": "code",
      "source": [
        "# intialize flow\n",
        "from langgraph.graph import START, StateGraph\n",
        "\n",
        "graph_builder = StateGraph(State).add_sequence([retrieve, generate])\n",
        "graph_builder.add_edge(START, \"retrieve\")\n",
        "graph = graph_builder.compile()"
      ],
      "metadata": {
        "id": "sQC9f1lfkdLk"
      },
      "execution_count": null,
      "outputs": []
    },
    {
      "cell_type": "code",
      "source": [
        "from IPython.display import Image, display\n",
        "\n",
        "display(Image(graph.get_graph().draw_mermaid_png()))"
      ],
      "metadata": {
        "id": "EbLFQZvblJKM",
        "colab": {
          "base_uri": "https://localhost:8080/",
          "height": 350
        },
        "outputId": "a6173436-ea22-4e35-8fa5-44abbaf22b80"
      },
      "execution_count": null,
      "outputs": [
        {
          "output_type": "display_data",
          "data": {
            "image/png": "[encoded data removed]",
            "text/plain": [
              "<IPython.core.display.Image object>"
            ]
          },
          "metadata": {}
        }
      ]
    },
    {
      "cell_type": "code",
      "source": [
        "result = graph.invoke({\"question\": \"According to this document, what methods can be used to detect snoring using a microcontroller?\"})\n",
        "\n",
        "print(f'Context: {result[\"context\"]}\\n\\n')\n",
        "print(f'Answer: {result[\"answer\"]}')"
      ],
      "metadata": {
        "id": "6Hya9OielLGN",
        "colab": {
          "base_uri": "https://localhost:8080/"
        },
        "outputId": "de794ad0-bd25-4d51-90c3-2f71dd2b5dd4"
      },
      "execution_count": null,
      "outputs": [
        {
          "output_type": "stream",
          "name": "stdout",
          "text": [
            "Context: [Document(id='80ad1e2e-1147-431e-a6f5-eaff80ad75e4', metadata={}, page_content='Poor sleep can harm physical and mental health. Sleep apnea, often signaled by snoring and low \\nblood oxygen (SpO2), involves temporary breathing pauses and can increase the risk of \\ncardiovascular disease, stroke, and cognitive problems. This paper presents the design of a \\nwearable early warning device consisting of two modules: one for snoring detection using a \\nPDM microphone and TinyML-based Neural Network, and another for SpO2 monitoring with \\na MAX30102 sensor, providing alerts via vibration, buzzer, or OLED display. Data is \\ntransmitted to a smartphone application through BLE for real-time monitoring. Testing showed \\nthat the MAX30102 achieved 99.06% accuracy in SpO2 measurement, while the snoring \\ndetection model using MFCC features reached accuracy of 80.5% with a weighted average \\nprecision of 0.806, recall of 0.805, and an F1-score of 0.794. The microphone effectively \\ndetected snoring at 15-100 cm with an intensity of 38.9-50.6 dB. The system operates in real-'), Document(id='ea9a6b1d-b7e5-4eba-8cfc-dacbd0bc76ba', metadata={}, page_content='precision of 0.806, recall of 0.805, and an F1-score of 0.794. The microphone effectively \\ndetected snoring at 15-100 cm with an intensity of 38.9-50.6 dB. The system operates in real-\\ntime with data transfer <1.5 seconds from the device to the application and continuous operation \\nup to 6 hours. This wearable is expected to serve as a practical solution for monitoring and \\nproviding early warning of sleep apnea symptoms, particularly snoring and decreased blood \\noxygen levels. \\nKEYWORDS \\nSleep Apnea, Snoring Detection, SpO2 \\nMonitoring, Neural Network, TinyML \\nCORRESPONDENCE \\nPhone: +62 85274061195 \\nE-mail: muhammadshadeq25@gmail.com \\nINTRODUCTION \\nPoor sleep quality can lead to significant negative health impacts. \\nOne of the most common yet frequently overlooked sleep \\ndisorders is Obstructive Sleep Apnea (OSA), a condition where \\nthe upper airway is repeatedly blocked, causing breathing to stop \\ntemporarily during sleep [1]. These pauses, lasting 10 seconds or'), Document(id='db969dd1-651f-438e-8b43-888210fa8a9f', metadata={}, page_content='sleep position, to prevent more serious health risks. \\nMETHOD \\nThe proposed solution is a wearable early warning system, \\ndesigned to be portable and capable of real-time monitoring and \\nfeedback. As illustrated in Figure 1, the system divided into two \\nmain hardware modules that communicate wirelessly: a snoring \\ndetection device (device 1) and an oxygen saturation detection \\ndevice with a notification system (device 2). This configuration \\nis complemented by a mobile application for data logging and \\nvisualization, allowing users to monitor their log data via a \\nsmartphone.  \\n \\nFigure 1. General System Design \\n \\nFigure 2 shows a 3D design of device 1, which functions as the \\nportable snore detection module. Housed in a compact case \\nmeasuring 55 mm x 35 mm x 26 mm, the device contains a \\nSeeedstudio XIAO nRF52840 microcontroller (a) with its \\nintegrated PDM microphone (a.1) for capturing audio [13]. The \\nmodule is powered by a battery (b)[14] and operated via a power \\nswitch (c).'), Document(id='9977a827-b760-403f-aad6-a89f65e26dd7', metadata={}, page_content='capability is influenced by both distance and sound intensity. At \\nhigh intensity (50.6 dB), snoring was detected across all tested \\ndistances up to 200 cm. At medium intensity (44.7 dB), detection \\nsucceeded at close and some far distances but failed at mid-range \\nand the farthest point. At 38.9 dB, detection was only effective up \\nto 100 cm, while at the lowest intensity (28.7 dB), detection was \\nlimited to 15 cm. Thus, the optimal detection range is 15–100 cm. \\nMAX30102 Sensor Testing \\nThis test was conducted by comparing the values obtained from \\nthe MAX30102 sensor with the results from a conventional pulse \\noximeter (Pulse Oximeter Lk88) as a reference device. \\n \\nTable 5. Comparison of SpO2 Oximeter with MAX30102 Sensor \\nTest \\nNo. \\nBlood Oxygen Level \\n(SpO2) \\nDifference \\nR \\nAccuracy \\nPercentage \\n(%) \\nPulse \\nOximetry \\n(%) \\nSensor \\nMAX30102 \\n(%) \\n1 \\n97 \\n96,1 \\n0,7 \\n0,4725 \\n99,07 \\n2 \\n97 \\n95,9 \\n1,1 \\n0,4851 \\n98,87 \\n3 \\n97 \\n95,4 \\n1,6 \\n0,4725 \\n98,35 \\n4 \\n97 \\n95,5 \\n1,5 \\n0,4748 \\n98,45 \\n5')]\n",
            "\n",
            "\n",
            "Answer: According to the document, snoring can be detected using a microcontroller with a PDM microphone and a TinyML-based Neural Network. The microphone effectively detects snoring at 15-100 cm with an intensity of 38.9-50.6 dB. The system uses MFCC features to reach an accuracy of 80.5% in snoring detection.\n"
          ]
        }
      ]
    },
    {
      "cell_type": "code",
      "source": [
        "result = graph.invoke({\"question\": \"Jelaskan secara singkat bagaimana sistem bekerja\"})\n",
        "print(f'Answer: {result[\"answer\"]}')"
      ],
      "metadata": {
        "id": "4p-3eIlalgjS",
        "colab": {
          "base_uri": "https://localhost:8080/"
        },
        "outputId": "5d6cf040-0d5a-4856-a012-7786d2d8c622"
      },
      "execution_count": null,
      "outputs": [
        {
          "output_type": "stream",
          "name": "stdout",
          "text": [
            "Answer: Sistem ini bekerja dengan menggunakan dua perangkat yang terhubung melalui BLE (Bluetooth Low Energy). Perangkat pertama (Seeed Studio XIAO nRF52840 Sense) mengcapture sinyal snoring dan mengirimkan data ke perangkat kedua (Seeed Studio XIAO ESP32C3) untuk diproses. Perangkat kedua kemudian mengolah data SpO2 dari sensor MAX30102 dan mengirimkan data ke smartphone melalui BLE untuk pemantauan waktu nyata.\n"
          ]
        }
      ]
    }
  ]
}